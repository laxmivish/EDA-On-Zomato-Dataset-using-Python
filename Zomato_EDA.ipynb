{
 "cells": [
  {
   "cell_type": "markdown",
   "id": "c19c2d44",
   "metadata": {},
   "source": [
    "# Importing Libraries"
   ]
  },
  {
   "cell_type": "code",
   "execution_count": 33,
   "id": "85415179",
   "metadata": {},
   "outputs": [],
   "source": [
    "import numpy as np\n",
    "import pandas as pd\n",
    "import matplotlib.pyplot as plt\n",
    "import seaborn as sns\n",
    "import warnings\n",
    "warnings.filterwarnings('ignore')"
   ]
  },
  {
   "cell_type": "markdown",
   "id": "e83ea78a",
   "metadata": {},
   "source": [
    "# Load the Data Set"
   ]
  },
  {
   "cell_type": "code",
   "execution_count": 2,
   "id": "baaa5a9f",
   "metadata": {},
   "outputs": [],
   "source": [
    "df= pd.read_csv('zomato.csv')"
   ]
  },
  {
   "cell_type": "code",
   "execution_count": 23,
   "id": "13d21286",
   "metadata": {},
   "outputs": [
    {
     "data": {
      "text/html": [
       "<div>\n",
       "<style scoped>\n",
       "    .dataframe tbody tr th:only-of-type {\n",
       "        vertical-align: middle;\n",
       "    }\n",
       "\n",
       "    .dataframe tbody tr th {\n",
       "        vertical-align: top;\n",
       "    }\n",
       "\n",
       "    .dataframe thead th {\n",
       "        text-align: right;\n",
       "    }\n",
       "</style>\n",
       "<table border=\"1\" class=\"dataframe\">\n",
       "  <thead>\n",
       "    <tr style=\"text-align: right;\">\n",
       "      <th></th>\n",
       "      <th>url</th>\n",
       "      <th>address</th>\n",
       "      <th>name</th>\n",
       "      <th>online_order</th>\n",
       "      <th>book_table</th>\n",
       "      <th>rate</th>\n",
       "      <th>votes</th>\n",
       "      <th>phone</th>\n",
       "      <th>location</th>\n",
       "      <th>rest_type</th>\n",
       "      <th>dish_liked</th>\n",
       "      <th>cuisines</th>\n",
       "      <th>approx_cost(for two people)</th>\n",
       "      <th>reviews_list</th>\n",
       "      <th>menu_item</th>\n",
       "      <th>listed_in(type)</th>\n",
       "      <th>listed_in(city)</th>\n",
       "    </tr>\n",
       "  </thead>\n",
       "  <tbody>\n",
       "    <tr>\n",
       "      <th>0</th>\n",
       "      <td>https://www.zomato.com/bangalore/jalsa-banasha...</td>\n",
       "      <td>942, 21st Main Road, 2nd Stage, Banashankari, ...</td>\n",
       "      <td>Jalsa</td>\n",
       "      <td>Yes</td>\n",
       "      <td>Yes</td>\n",
       "      <td>4.1/5</td>\n",
       "      <td>775</td>\n",
       "      <td>080 42297555\\r\\n+91 9743772233</td>\n",
       "      <td>Banashankari</td>\n",
       "      <td>Casual Dining</td>\n",
       "      <td>Pasta, Lunch Buffet, Masala Papad, Paneer Laja...</td>\n",
       "      <td>North Indian, Mughlai, Chinese</td>\n",
       "      <td>800</td>\n",
       "      <td>[('Rated 4.0', 'RATED\\n  A beautiful place to ...</td>\n",
       "      <td>[]</td>\n",
       "      <td>Buffet</td>\n",
       "      <td>Banashankari</td>\n",
       "    </tr>\n",
       "    <tr>\n",
       "      <th>1</th>\n",
       "      <td>https://www.zomato.com/bangalore/spice-elephan...</td>\n",
       "      <td>2nd Floor, 80 Feet Road, Near Big Bazaar, 6th ...</td>\n",
       "      <td>Spice Elephant</td>\n",
       "      <td>Yes</td>\n",
       "      <td>No</td>\n",
       "      <td>4.1/5</td>\n",
       "      <td>787</td>\n",
       "      <td>080 41714161</td>\n",
       "      <td>Banashankari</td>\n",
       "      <td>Casual Dining</td>\n",
       "      <td>Momos, Lunch Buffet, Chocolate Nirvana, Thai G...</td>\n",
       "      <td>Chinese, North Indian, Thai</td>\n",
       "      <td>800</td>\n",
       "      <td>[('Rated 4.0', 'RATED\\n  Had been here for din...</td>\n",
       "      <td>[]</td>\n",
       "      <td>Buffet</td>\n",
       "      <td>Banashankari</td>\n",
       "    </tr>\n",
       "    <tr>\n",
       "      <th>2</th>\n",
       "      <td>https://www.zomato.com/SanchurroBangalore?cont...</td>\n",
       "      <td>1112, Next to KIMS Medical College, 17th Cross...</td>\n",
       "      <td>San Churro Cafe</td>\n",
       "      <td>Yes</td>\n",
       "      <td>No</td>\n",
       "      <td>3.8/5</td>\n",
       "      <td>918</td>\n",
       "      <td>+91 9663487993</td>\n",
       "      <td>Banashankari</td>\n",
       "      <td>Cafe, Casual Dining</td>\n",
       "      <td>Churros, Cannelloni, Minestrone Soup, Hot Choc...</td>\n",
       "      <td>Cafe, Mexican, Italian</td>\n",
       "      <td>800</td>\n",
       "      <td>[('Rated 3.0', \"RATED\\n  Ambience is not that ...</td>\n",
       "      <td>[]</td>\n",
       "      <td>Buffet</td>\n",
       "      <td>Banashankari</td>\n",
       "    </tr>\n",
       "    <tr>\n",
       "      <th>3</th>\n",
       "      <td>https://www.zomato.com/bangalore/addhuri-udupi...</td>\n",
       "      <td>1st Floor, Annakuteera, 3rd Stage, Banashankar...</td>\n",
       "      <td>Addhuri Udupi Bhojana</td>\n",
       "      <td>No</td>\n",
       "      <td>No</td>\n",
       "      <td>3.7/5</td>\n",
       "      <td>88</td>\n",
       "      <td>+91 9620009302</td>\n",
       "      <td>Banashankari</td>\n",
       "      <td>Quick Bites</td>\n",
       "      <td>Masala Dosa</td>\n",
       "      <td>South Indian, North Indian</td>\n",
       "      <td>300</td>\n",
       "      <td>[('Rated 4.0', \"RATED\\n  Great food and proper...</td>\n",
       "      <td>[]</td>\n",
       "      <td>Buffet</td>\n",
       "      <td>Banashankari</td>\n",
       "    </tr>\n",
       "    <tr>\n",
       "      <th>4</th>\n",
       "      <td>https://www.zomato.com/bangalore/grand-village...</td>\n",
       "      <td>10, 3rd Floor, Lakshmi Associates, Gandhi Baza...</td>\n",
       "      <td>Grand Village</td>\n",
       "      <td>No</td>\n",
       "      <td>No</td>\n",
       "      <td>3.8/5</td>\n",
       "      <td>166</td>\n",
       "      <td>+91 8026612447\\r\\n+91 9901210005</td>\n",
       "      <td>Basavanagudi</td>\n",
       "      <td>Casual Dining</td>\n",
       "      <td>Panipuri, Gol Gappe</td>\n",
       "      <td>North Indian, Rajasthani</td>\n",
       "      <td>600</td>\n",
       "      <td>[('Rated 4.0', 'RATED\\n  Very good restaurant ...</td>\n",
       "      <td>[]</td>\n",
       "      <td>Buffet</td>\n",
       "      <td>Banashankari</td>\n",
       "    </tr>\n",
       "    <tr>\n",
       "      <th>...</th>\n",
       "      <td>...</td>\n",
       "      <td>...</td>\n",
       "      <td>...</td>\n",
       "      <td>...</td>\n",
       "      <td>...</td>\n",
       "      <td>...</td>\n",
       "      <td>...</td>\n",
       "      <td>...</td>\n",
       "      <td>...</td>\n",
       "      <td>...</td>\n",
       "      <td>...</td>\n",
       "      <td>...</td>\n",
       "      <td>...</td>\n",
       "      <td>...</td>\n",
       "      <td>...</td>\n",
       "      <td>...</td>\n",
       "      <td>...</td>\n",
       "    </tr>\n",
       "    <tr>\n",
       "      <th>51712</th>\n",
       "      <td>https://www.zomato.com/bangalore/best-brews-fo...</td>\n",
       "      <td>Four Points by Sheraton Bengaluru, 43/3, White...</td>\n",
       "      <td>Best Brews - Four Points by Sheraton Bengaluru...</td>\n",
       "      <td>No</td>\n",
       "      <td>No</td>\n",
       "      <td>3.6 /5</td>\n",
       "      <td>27</td>\n",
       "      <td>080 40301477</td>\n",
       "      <td>Whitefield</td>\n",
       "      <td>Bar</td>\n",
       "      <td>NaN</td>\n",
       "      <td>Continental</td>\n",
       "      <td>1,500</td>\n",
       "      <td>[('Rated 5.0', \"RATED\\n  Food and service are ...</td>\n",
       "      <td>[]</td>\n",
       "      <td>Pubs and bars</td>\n",
       "      <td>Whitefield</td>\n",
       "    </tr>\n",
       "    <tr>\n",
       "      <th>51713</th>\n",
       "      <td>https://www.zomato.com/bangalore/vinod-bar-and...</td>\n",
       "      <td>Number 10, Garudachar Palya, Mahadevapura, Whi...</td>\n",
       "      <td>Vinod Bar And Restaurant</td>\n",
       "      <td>No</td>\n",
       "      <td>No</td>\n",
       "      <td>NaN</td>\n",
       "      <td>0</td>\n",
       "      <td>+91 8197675843</td>\n",
       "      <td>Whitefield</td>\n",
       "      <td>Bar</td>\n",
       "      <td>NaN</td>\n",
       "      <td>Finger Food</td>\n",
       "      <td>600</td>\n",
       "      <td>[]</td>\n",
       "      <td>[]</td>\n",
       "      <td>Pubs and bars</td>\n",
       "      <td>Whitefield</td>\n",
       "    </tr>\n",
       "    <tr>\n",
       "      <th>51714</th>\n",
       "      <td>https://www.zomato.com/bangalore/plunge-sherat...</td>\n",
       "      <td>Sheraton Grand Bengaluru Whitefield Hotel &amp; Co...</td>\n",
       "      <td>Plunge - Sheraton Grand Bengaluru Whitefield H...</td>\n",
       "      <td>No</td>\n",
       "      <td>No</td>\n",
       "      <td>NaN</td>\n",
       "      <td>0</td>\n",
       "      <td>NaN</td>\n",
       "      <td>Whitefield</td>\n",
       "      <td>Bar</td>\n",
       "      <td>NaN</td>\n",
       "      <td>Finger Food</td>\n",
       "      <td>2,000</td>\n",
       "      <td>[]</td>\n",
       "      <td>[]</td>\n",
       "      <td>Pubs and bars</td>\n",
       "      <td>Whitefield</td>\n",
       "    </tr>\n",
       "    <tr>\n",
       "      <th>51715</th>\n",
       "      <td>https://www.zomato.com/bangalore/chime-sherato...</td>\n",
       "      <td>Sheraton Grand Bengaluru Whitefield Hotel &amp; Co...</td>\n",
       "      <td>Chime - Sheraton Grand Bengaluru Whitefield Ho...</td>\n",
       "      <td>No</td>\n",
       "      <td>Yes</td>\n",
       "      <td>4.3 /5</td>\n",
       "      <td>236</td>\n",
       "      <td>080 49652769</td>\n",
       "      <td>ITPL Main Road, Whitefield</td>\n",
       "      <td>Bar</td>\n",
       "      <td>Cocktails, Pizza, Buttermilk</td>\n",
       "      <td>Finger Food</td>\n",
       "      <td>2,500</td>\n",
       "      <td>[('Rated 4.0', 'RATED\\n  Nice and friendly pla...</td>\n",
       "      <td>[]</td>\n",
       "      <td>Pubs and bars</td>\n",
       "      <td>Whitefield</td>\n",
       "    </tr>\n",
       "    <tr>\n",
       "      <th>51716</th>\n",
       "      <td>https://www.zomato.com/bangalore/the-nest-the-...</td>\n",
       "      <td>ITPL Main Road, KIADB Export Promotion Industr...</td>\n",
       "      <td>The Nest - The Den Bengaluru</td>\n",
       "      <td>No</td>\n",
       "      <td>No</td>\n",
       "      <td>3.4 /5</td>\n",
       "      <td>13</td>\n",
       "      <td>+91 8071117272</td>\n",
       "      <td>ITPL Main Road, Whitefield</td>\n",
       "      <td>Bar, Casual Dining</td>\n",
       "      <td>NaN</td>\n",
       "      <td>Finger Food, North Indian, Continental</td>\n",
       "      <td>1,500</td>\n",
       "      <td>[('Rated 5.0', 'RATED\\n  Great ambience , look...</td>\n",
       "      <td>[]</td>\n",
       "      <td>Pubs and bars</td>\n",
       "      <td>Whitefield</td>\n",
       "    </tr>\n",
       "  </tbody>\n",
       "</table>\n",
       "<p>51717 rows × 17 columns</p>\n",
       "</div>"
      ],
      "text/plain": [
       "                                                     url  \\\n",
       "0      https://www.zomato.com/bangalore/jalsa-banasha...   \n",
       "1      https://www.zomato.com/bangalore/spice-elephan...   \n",
       "2      https://www.zomato.com/SanchurroBangalore?cont...   \n",
       "3      https://www.zomato.com/bangalore/addhuri-udupi...   \n",
       "4      https://www.zomato.com/bangalore/grand-village...   \n",
       "...                                                  ...   \n",
       "51712  https://www.zomato.com/bangalore/best-brews-fo...   \n",
       "51713  https://www.zomato.com/bangalore/vinod-bar-and...   \n",
       "51714  https://www.zomato.com/bangalore/plunge-sherat...   \n",
       "51715  https://www.zomato.com/bangalore/chime-sherato...   \n",
       "51716  https://www.zomato.com/bangalore/the-nest-the-...   \n",
       "\n",
       "                                                 address  \\\n",
       "0      942, 21st Main Road, 2nd Stage, Banashankari, ...   \n",
       "1      2nd Floor, 80 Feet Road, Near Big Bazaar, 6th ...   \n",
       "2      1112, Next to KIMS Medical College, 17th Cross...   \n",
       "3      1st Floor, Annakuteera, 3rd Stage, Banashankar...   \n",
       "4      10, 3rd Floor, Lakshmi Associates, Gandhi Baza...   \n",
       "...                                                  ...   \n",
       "51712  Four Points by Sheraton Bengaluru, 43/3, White...   \n",
       "51713  Number 10, Garudachar Palya, Mahadevapura, Whi...   \n",
       "51714  Sheraton Grand Bengaluru Whitefield Hotel & Co...   \n",
       "51715  Sheraton Grand Bengaluru Whitefield Hotel & Co...   \n",
       "51716  ITPL Main Road, KIADB Export Promotion Industr...   \n",
       "\n",
       "                                                    name online_order  \\\n",
       "0                                                  Jalsa          Yes   \n",
       "1                                         Spice Elephant          Yes   \n",
       "2                                        San Churro Cafe          Yes   \n",
       "3                                  Addhuri Udupi Bhojana           No   \n",
       "4                                          Grand Village           No   \n",
       "...                                                  ...          ...   \n",
       "51712  Best Brews - Four Points by Sheraton Bengaluru...           No   \n",
       "51713                           Vinod Bar And Restaurant           No   \n",
       "51714  Plunge - Sheraton Grand Bengaluru Whitefield H...           No   \n",
       "51715  Chime - Sheraton Grand Bengaluru Whitefield Ho...           No   \n",
       "51716                       The Nest - The Den Bengaluru           No   \n",
       "\n",
       "      book_table    rate  votes                             phone  \\\n",
       "0            Yes   4.1/5    775    080 42297555\\r\\n+91 9743772233   \n",
       "1             No   4.1/5    787                      080 41714161   \n",
       "2             No   3.8/5    918                    +91 9663487993   \n",
       "3             No   3.7/5     88                    +91 9620009302   \n",
       "4             No   3.8/5    166  +91 8026612447\\r\\n+91 9901210005   \n",
       "...          ...     ...    ...                               ...   \n",
       "51712         No  3.6 /5     27                      080 40301477   \n",
       "51713         No     NaN      0                    +91 8197675843   \n",
       "51714         No     NaN      0                               NaN   \n",
       "51715        Yes  4.3 /5    236                      080 49652769   \n",
       "51716         No  3.4 /5     13                    +91 8071117272   \n",
       "\n",
       "                         location            rest_type  \\\n",
       "0                    Banashankari        Casual Dining   \n",
       "1                    Banashankari        Casual Dining   \n",
       "2                    Banashankari  Cafe, Casual Dining   \n",
       "3                    Banashankari          Quick Bites   \n",
       "4                    Basavanagudi        Casual Dining   \n",
       "...                           ...                  ...   \n",
       "51712                  Whitefield                  Bar   \n",
       "51713                  Whitefield                  Bar   \n",
       "51714                  Whitefield                  Bar   \n",
       "51715  ITPL Main Road, Whitefield                  Bar   \n",
       "51716  ITPL Main Road, Whitefield   Bar, Casual Dining   \n",
       "\n",
       "                                              dish_liked  \\\n",
       "0      Pasta, Lunch Buffet, Masala Papad, Paneer Laja...   \n",
       "1      Momos, Lunch Buffet, Chocolate Nirvana, Thai G...   \n",
       "2      Churros, Cannelloni, Minestrone Soup, Hot Choc...   \n",
       "3                                            Masala Dosa   \n",
       "4                                    Panipuri, Gol Gappe   \n",
       "...                                                  ...   \n",
       "51712                                                NaN   \n",
       "51713                                                NaN   \n",
       "51714                                                NaN   \n",
       "51715                       Cocktails, Pizza, Buttermilk   \n",
       "51716                                                NaN   \n",
       "\n",
       "                                     cuisines approx_cost(for two people)  \\\n",
       "0              North Indian, Mughlai, Chinese                         800   \n",
       "1                 Chinese, North Indian, Thai                         800   \n",
       "2                      Cafe, Mexican, Italian                         800   \n",
       "3                  South Indian, North Indian                         300   \n",
       "4                    North Indian, Rajasthani                         600   \n",
       "...                                       ...                         ...   \n",
       "51712                             Continental                       1,500   \n",
       "51713                             Finger Food                         600   \n",
       "51714                             Finger Food                       2,000   \n",
       "51715                             Finger Food                       2,500   \n",
       "51716  Finger Food, North Indian, Continental                       1,500   \n",
       "\n",
       "                                            reviews_list menu_item  \\\n",
       "0      [('Rated 4.0', 'RATED\\n  A beautiful place to ...        []   \n",
       "1      [('Rated 4.0', 'RATED\\n  Had been here for din...        []   \n",
       "2      [('Rated 3.0', \"RATED\\n  Ambience is not that ...        []   \n",
       "3      [('Rated 4.0', \"RATED\\n  Great food and proper...        []   \n",
       "4      [('Rated 4.0', 'RATED\\n  Very good restaurant ...        []   \n",
       "...                                                  ...       ...   \n",
       "51712  [('Rated 5.0', \"RATED\\n  Food and service are ...        []   \n",
       "51713                                                 []        []   \n",
       "51714                                                 []        []   \n",
       "51715  [('Rated 4.0', 'RATED\\n  Nice and friendly pla...        []   \n",
       "51716  [('Rated 5.0', 'RATED\\n  Great ambience , look...        []   \n",
       "\n",
       "      listed_in(type) listed_in(city)  \n",
       "0              Buffet    Banashankari  \n",
       "1              Buffet    Banashankari  \n",
       "2              Buffet    Banashankari  \n",
       "3              Buffet    Banashankari  \n",
       "4              Buffet    Banashankari  \n",
       "...               ...             ...  \n",
       "51712   Pubs and bars      Whitefield  \n",
       "51713   Pubs and bars      Whitefield  \n",
       "51714   Pubs and bars      Whitefield  \n",
       "51715   Pubs and bars      Whitefield  \n",
       "51716   Pubs and bars      Whitefield  \n",
       "\n",
       "[51717 rows x 17 columns]"
      ]
     },
     "execution_count": 23,
     "metadata": {},
     "output_type": "execute_result"
    }
   ],
   "source": [
    "# All data set\n",
    "df"
   ]
  },
  {
   "cell_type": "code",
   "execution_count": 3,
   "id": "1c93f00d",
   "metadata": {},
   "outputs": [
    {
     "data": {
      "text/html": [
       "<div>\n",
       "<style scoped>\n",
       "    .dataframe tbody tr th:only-of-type {\n",
       "        vertical-align: middle;\n",
       "    }\n",
       "\n",
       "    .dataframe tbody tr th {\n",
       "        vertical-align: top;\n",
       "    }\n",
       "\n",
       "    .dataframe thead th {\n",
       "        text-align: right;\n",
       "    }\n",
       "</style>\n",
       "<table border=\"1\" class=\"dataframe\">\n",
       "  <thead>\n",
       "    <tr style=\"text-align: right;\">\n",
       "      <th></th>\n",
       "      <th>url</th>\n",
       "      <th>address</th>\n",
       "      <th>name</th>\n",
       "      <th>online_order</th>\n",
       "      <th>book_table</th>\n",
       "      <th>rate</th>\n",
       "      <th>votes</th>\n",
       "      <th>phone</th>\n",
       "      <th>location</th>\n",
       "      <th>rest_type</th>\n",
       "      <th>dish_liked</th>\n",
       "      <th>cuisines</th>\n",
       "      <th>approx_cost(for two people)</th>\n",
       "      <th>reviews_list</th>\n",
       "      <th>menu_item</th>\n",
       "      <th>listed_in(type)</th>\n",
       "      <th>listed_in(city)</th>\n",
       "    </tr>\n",
       "  </thead>\n",
       "  <tbody>\n",
       "    <tr>\n",
       "      <th>0</th>\n",
       "      <td>https://www.zomato.com/bangalore/jalsa-banasha...</td>\n",
       "      <td>942, 21st Main Road, 2nd Stage, Banashankari, ...</td>\n",
       "      <td>Jalsa</td>\n",
       "      <td>Yes</td>\n",
       "      <td>Yes</td>\n",
       "      <td>4.1/5</td>\n",
       "      <td>775</td>\n",
       "      <td>080 42297555\\r\\n+91 9743772233</td>\n",
       "      <td>Banashankari</td>\n",
       "      <td>Casual Dining</td>\n",
       "      <td>Pasta, Lunch Buffet, Masala Papad, Paneer Laja...</td>\n",
       "      <td>North Indian, Mughlai, Chinese</td>\n",
       "      <td>800</td>\n",
       "      <td>[('Rated 4.0', 'RATED\\n  A beautiful place to ...</td>\n",
       "      <td>[]</td>\n",
       "      <td>Buffet</td>\n",
       "      <td>Banashankari</td>\n",
       "    </tr>\n",
       "    <tr>\n",
       "      <th>1</th>\n",
       "      <td>https://www.zomato.com/bangalore/spice-elephan...</td>\n",
       "      <td>2nd Floor, 80 Feet Road, Near Big Bazaar, 6th ...</td>\n",
       "      <td>Spice Elephant</td>\n",
       "      <td>Yes</td>\n",
       "      <td>No</td>\n",
       "      <td>4.1/5</td>\n",
       "      <td>787</td>\n",
       "      <td>080 41714161</td>\n",
       "      <td>Banashankari</td>\n",
       "      <td>Casual Dining</td>\n",
       "      <td>Momos, Lunch Buffet, Chocolate Nirvana, Thai G...</td>\n",
       "      <td>Chinese, North Indian, Thai</td>\n",
       "      <td>800</td>\n",
       "      <td>[('Rated 4.0', 'RATED\\n  Had been here for din...</td>\n",
       "      <td>[]</td>\n",
       "      <td>Buffet</td>\n",
       "      <td>Banashankari</td>\n",
       "    </tr>\n",
       "    <tr>\n",
       "      <th>2</th>\n",
       "      <td>https://www.zomato.com/SanchurroBangalore?cont...</td>\n",
       "      <td>1112, Next to KIMS Medical College, 17th Cross...</td>\n",
       "      <td>San Churro Cafe</td>\n",
       "      <td>Yes</td>\n",
       "      <td>No</td>\n",
       "      <td>3.8/5</td>\n",
       "      <td>918</td>\n",
       "      <td>+91 9663487993</td>\n",
       "      <td>Banashankari</td>\n",
       "      <td>Cafe, Casual Dining</td>\n",
       "      <td>Churros, Cannelloni, Minestrone Soup, Hot Choc...</td>\n",
       "      <td>Cafe, Mexican, Italian</td>\n",
       "      <td>800</td>\n",
       "      <td>[('Rated 3.0', \"RATED\\n  Ambience is not that ...</td>\n",
       "      <td>[]</td>\n",
       "      <td>Buffet</td>\n",
       "      <td>Banashankari</td>\n",
       "    </tr>\n",
       "    <tr>\n",
       "      <th>3</th>\n",
       "      <td>https://www.zomato.com/bangalore/addhuri-udupi...</td>\n",
       "      <td>1st Floor, Annakuteera, 3rd Stage, Banashankar...</td>\n",
       "      <td>Addhuri Udupi Bhojana</td>\n",
       "      <td>No</td>\n",
       "      <td>No</td>\n",
       "      <td>3.7/5</td>\n",
       "      <td>88</td>\n",
       "      <td>+91 9620009302</td>\n",
       "      <td>Banashankari</td>\n",
       "      <td>Quick Bites</td>\n",
       "      <td>Masala Dosa</td>\n",
       "      <td>South Indian, North Indian</td>\n",
       "      <td>300</td>\n",
       "      <td>[('Rated 4.0', \"RATED\\n  Great food and proper...</td>\n",
       "      <td>[]</td>\n",
       "      <td>Buffet</td>\n",
       "      <td>Banashankari</td>\n",
       "    </tr>\n",
       "    <tr>\n",
       "      <th>4</th>\n",
       "      <td>https://www.zomato.com/bangalore/grand-village...</td>\n",
       "      <td>10, 3rd Floor, Lakshmi Associates, Gandhi Baza...</td>\n",
       "      <td>Grand Village</td>\n",
       "      <td>No</td>\n",
       "      <td>No</td>\n",
       "      <td>3.8/5</td>\n",
       "      <td>166</td>\n",
       "      <td>+91 8026612447\\r\\n+91 9901210005</td>\n",
       "      <td>Basavanagudi</td>\n",
       "      <td>Casual Dining</td>\n",
       "      <td>Panipuri, Gol Gappe</td>\n",
       "      <td>North Indian, Rajasthani</td>\n",
       "      <td>600</td>\n",
       "      <td>[('Rated 4.0', 'RATED\\n  Very good restaurant ...</td>\n",
       "      <td>[]</td>\n",
       "      <td>Buffet</td>\n",
       "      <td>Banashankari</td>\n",
       "    </tr>\n",
       "  </tbody>\n",
       "</table>\n",
       "</div>"
      ],
      "text/plain": [
       "                                                 url  \\\n",
       "0  https://www.zomato.com/bangalore/jalsa-banasha...   \n",
       "1  https://www.zomato.com/bangalore/spice-elephan...   \n",
       "2  https://www.zomato.com/SanchurroBangalore?cont...   \n",
       "3  https://www.zomato.com/bangalore/addhuri-udupi...   \n",
       "4  https://www.zomato.com/bangalore/grand-village...   \n",
       "\n",
       "                                             address                   name  \\\n",
       "0  942, 21st Main Road, 2nd Stage, Banashankari, ...                  Jalsa   \n",
       "1  2nd Floor, 80 Feet Road, Near Big Bazaar, 6th ...         Spice Elephant   \n",
       "2  1112, Next to KIMS Medical College, 17th Cross...        San Churro Cafe   \n",
       "3  1st Floor, Annakuteera, 3rd Stage, Banashankar...  Addhuri Udupi Bhojana   \n",
       "4  10, 3rd Floor, Lakshmi Associates, Gandhi Baza...          Grand Village   \n",
       "\n",
       "  online_order book_table   rate  votes                             phone  \\\n",
       "0          Yes        Yes  4.1/5    775    080 42297555\\r\\n+91 9743772233   \n",
       "1          Yes         No  4.1/5    787                      080 41714161   \n",
       "2          Yes         No  3.8/5    918                    +91 9663487993   \n",
       "3           No         No  3.7/5     88                    +91 9620009302   \n",
       "4           No         No  3.8/5    166  +91 8026612447\\r\\n+91 9901210005   \n",
       "\n",
       "       location            rest_type  \\\n",
       "0  Banashankari        Casual Dining   \n",
       "1  Banashankari        Casual Dining   \n",
       "2  Banashankari  Cafe, Casual Dining   \n",
       "3  Banashankari          Quick Bites   \n",
       "4  Basavanagudi        Casual Dining   \n",
       "\n",
       "                                          dish_liked  \\\n",
       "0  Pasta, Lunch Buffet, Masala Papad, Paneer Laja...   \n",
       "1  Momos, Lunch Buffet, Chocolate Nirvana, Thai G...   \n",
       "2  Churros, Cannelloni, Minestrone Soup, Hot Choc...   \n",
       "3                                        Masala Dosa   \n",
       "4                                Panipuri, Gol Gappe   \n",
       "\n",
       "                         cuisines approx_cost(for two people)  \\\n",
       "0  North Indian, Mughlai, Chinese                         800   \n",
       "1     Chinese, North Indian, Thai                         800   \n",
       "2          Cafe, Mexican, Italian                         800   \n",
       "3      South Indian, North Indian                         300   \n",
       "4        North Indian, Rajasthani                         600   \n",
       "\n",
       "                                        reviews_list menu_item  \\\n",
       "0  [('Rated 4.0', 'RATED\\n  A beautiful place to ...        []   \n",
       "1  [('Rated 4.0', 'RATED\\n  Had been here for din...        []   \n",
       "2  [('Rated 3.0', \"RATED\\n  Ambience is not that ...        []   \n",
       "3  [('Rated 4.0', \"RATED\\n  Great food and proper...        []   \n",
       "4  [('Rated 4.0', 'RATED\\n  Very good restaurant ...        []   \n",
       "\n",
       "  listed_in(type) listed_in(city)  \n",
       "0          Buffet    Banashankari  \n",
       "1          Buffet    Banashankari  \n",
       "2          Buffet    Banashankari  \n",
       "3          Buffet    Banashankari  \n",
       "4          Buffet    Banashankari  "
      ]
     },
     "execution_count": 3,
     "metadata": {},
     "output_type": "execute_result"
    }
   ],
   "source": [
    "# Top 5 columns in data set\n",
    "df.head()"
   ]
  },
  {
   "cell_type": "code",
   "execution_count": 4,
   "id": "7018226c",
   "metadata": {},
   "outputs": [
    {
     "data": {
      "text/plain": [
       "(51717, 17)"
      ]
     },
     "execution_count": 4,
     "metadata": {},
     "output_type": "execute_result"
    }
   ],
   "source": [
    "# All columns and rows in data set\n",
    "df.shape"
   ]
  },
  {
   "cell_type": "code",
   "execution_count": 5,
   "id": "15d288ff",
   "metadata": {},
   "outputs": [
    {
     "data": {
      "text/plain": [
       "Index(['url', 'address', 'name', 'online_order', 'book_table', 'rate', 'votes',\n",
       "       'phone', 'location', 'rest_type', 'dish_liked', 'cuisines',\n",
       "       'approx_cost(for two people)', 'reviews_list', 'menu_item',\n",
       "       'listed_in(type)', 'listed_in(city)'],\n",
       "      dtype='object')"
      ]
     },
     "execution_count": 5,
     "metadata": {},
     "output_type": "execute_result"
    }
   ],
   "source": [
    "# All columns name in data set\n",
    "df.columns"
   ]
  },
  {
   "cell_type": "code",
   "execution_count": 6,
   "id": "97f3f98c",
   "metadata": {},
   "outputs": [],
   "source": [
    "# deleting the columns\n",
    "df = df.drop(['url','address','phone','dish_liked','reviews_list','menu_item'], axis = 1 )\n"
   ]
  },
  {
   "cell_type": "code",
   "execution_count": 7,
   "id": "06b0fa9d",
   "metadata": {},
   "outputs": [
    {
     "data": {
      "text/html": [
       "<div>\n",
       "<style scoped>\n",
       "    .dataframe tbody tr th:only-of-type {\n",
       "        vertical-align: middle;\n",
       "    }\n",
       "\n",
       "    .dataframe tbody tr th {\n",
       "        vertical-align: top;\n",
       "    }\n",
       "\n",
       "    .dataframe thead th {\n",
       "        text-align: right;\n",
       "    }\n",
       "</style>\n",
       "<table border=\"1\" class=\"dataframe\">\n",
       "  <thead>\n",
       "    <tr style=\"text-align: right;\">\n",
       "      <th></th>\n",
       "      <th>name</th>\n",
       "      <th>online_order</th>\n",
       "      <th>book_table</th>\n",
       "      <th>rate</th>\n",
       "      <th>votes</th>\n",
       "      <th>location</th>\n",
       "      <th>rest_type</th>\n",
       "      <th>cuisines</th>\n",
       "      <th>approx_cost(for two people)</th>\n",
       "      <th>listed_in(type)</th>\n",
       "      <th>listed_in(city)</th>\n",
       "    </tr>\n",
       "  </thead>\n",
       "  <tbody>\n",
       "    <tr>\n",
       "      <th>0</th>\n",
       "      <td>Jalsa</td>\n",
       "      <td>Yes</td>\n",
       "      <td>Yes</td>\n",
       "      <td>4.1/5</td>\n",
       "      <td>775</td>\n",
       "      <td>Banashankari</td>\n",
       "      <td>Casual Dining</td>\n",
       "      <td>North Indian, Mughlai, Chinese</td>\n",
       "      <td>800</td>\n",
       "      <td>Buffet</td>\n",
       "      <td>Banashankari</td>\n",
       "    </tr>\n",
       "    <tr>\n",
       "      <th>1</th>\n",
       "      <td>Spice Elephant</td>\n",
       "      <td>Yes</td>\n",
       "      <td>No</td>\n",
       "      <td>4.1/5</td>\n",
       "      <td>787</td>\n",
       "      <td>Banashankari</td>\n",
       "      <td>Casual Dining</td>\n",
       "      <td>Chinese, North Indian, Thai</td>\n",
       "      <td>800</td>\n",
       "      <td>Buffet</td>\n",
       "      <td>Banashankari</td>\n",
       "    </tr>\n",
       "    <tr>\n",
       "      <th>2</th>\n",
       "      <td>San Churro Cafe</td>\n",
       "      <td>Yes</td>\n",
       "      <td>No</td>\n",
       "      <td>3.8/5</td>\n",
       "      <td>918</td>\n",
       "      <td>Banashankari</td>\n",
       "      <td>Cafe, Casual Dining</td>\n",
       "      <td>Cafe, Mexican, Italian</td>\n",
       "      <td>800</td>\n",
       "      <td>Buffet</td>\n",
       "      <td>Banashankari</td>\n",
       "    </tr>\n",
       "    <tr>\n",
       "      <th>3</th>\n",
       "      <td>Addhuri Udupi Bhojana</td>\n",
       "      <td>No</td>\n",
       "      <td>No</td>\n",
       "      <td>3.7/5</td>\n",
       "      <td>88</td>\n",
       "      <td>Banashankari</td>\n",
       "      <td>Quick Bites</td>\n",
       "      <td>South Indian, North Indian</td>\n",
       "      <td>300</td>\n",
       "      <td>Buffet</td>\n",
       "      <td>Banashankari</td>\n",
       "    </tr>\n",
       "    <tr>\n",
       "      <th>4</th>\n",
       "      <td>Grand Village</td>\n",
       "      <td>No</td>\n",
       "      <td>No</td>\n",
       "      <td>3.8/5</td>\n",
       "      <td>166</td>\n",
       "      <td>Basavanagudi</td>\n",
       "      <td>Casual Dining</td>\n",
       "      <td>North Indian, Rajasthani</td>\n",
       "      <td>600</td>\n",
       "      <td>Buffet</td>\n",
       "      <td>Banashankari</td>\n",
       "    </tr>\n",
       "  </tbody>\n",
       "</table>\n",
       "</div>"
      ],
      "text/plain": [
       "                    name online_order book_table   rate  votes      location  \\\n",
       "0                  Jalsa          Yes        Yes  4.1/5    775  Banashankari   \n",
       "1         Spice Elephant          Yes         No  4.1/5    787  Banashankari   \n",
       "2        San Churro Cafe          Yes         No  3.8/5    918  Banashankari   \n",
       "3  Addhuri Udupi Bhojana           No         No  3.7/5     88  Banashankari   \n",
       "4          Grand Village           No         No  3.8/5    166  Basavanagudi   \n",
       "\n",
       "             rest_type                        cuisines  \\\n",
       "0        Casual Dining  North Indian, Mughlai, Chinese   \n",
       "1        Casual Dining     Chinese, North Indian, Thai   \n",
       "2  Cafe, Casual Dining          Cafe, Mexican, Italian   \n",
       "3          Quick Bites      South Indian, North Indian   \n",
       "4        Casual Dining        North Indian, Rajasthani   \n",
       "\n",
       "  approx_cost(for two people) listed_in(type) listed_in(city)  \n",
       "0                         800          Buffet    Banashankari  \n",
       "1                         800          Buffet    Banashankari  \n",
       "2                         800          Buffet    Banashankari  \n",
       "3                         300          Buffet    Banashankari  \n",
       "4                         600          Buffet    Banashankari  "
      ]
     },
     "execution_count": 7,
     "metadata": {},
     "output_type": "execute_result"
    }
   ],
   "source": [
    "df.head()"
   ]
  },
  {
   "cell_type": "code",
   "execution_count": 8,
   "id": "adaafcdb",
   "metadata": {},
   "outputs": [
    {
     "name": "stdout",
     "output_type": "stream",
     "text": [
      "<class 'pandas.core.frame.DataFrame'>\n",
      "RangeIndex: 51717 entries, 0 to 51716\n",
      "Data columns (total 11 columns):\n",
      " #   Column                       Non-Null Count  Dtype \n",
      "---  ------                       --------------  ----- \n",
      " 0   name                         51717 non-null  object\n",
      " 1   online_order                 51717 non-null  object\n",
      " 2   book_table                   51717 non-null  object\n",
      " 3   rate                         43942 non-null  object\n",
      " 4   votes                        51717 non-null  int64 \n",
      " 5   location                     51696 non-null  object\n",
      " 6   rest_type                    51490 non-null  object\n",
      " 7   cuisines                     51672 non-null  object\n",
      " 8   approx_cost(for two people)  51371 non-null  object\n",
      " 9   listed_in(type)              51717 non-null  object\n",
      " 10  listed_in(city)              51717 non-null  object\n",
      "dtypes: int64(1), object(10)\n",
      "memory usage: 4.3+ MB\n"
     ]
    }
   ],
   "source": [
    "df.info()"
   ]
  },
  {
   "cell_type": "code",
   "execution_count": 9,
   "id": "b600faed",
   "metadata": {},
   "outputs": [
    {
     "data": {
      "text/html": [
       "<div>\n",
       "<style scoped>\n",
       "    .dataframe tbody tr th:only-of-type {\n",
       "        vertical-align: middle;\n",
       "    }\n",
       "\n",
       "    .dataframe tbody tr th {\n",
       "        vertical-align: top;\n",
       "    }\n",
       "\n",
       "    .dataframe thead th {\n",
       "        text-align: right;\n",
       "    }\n",
       "</style>\n",
       "<table border=\"1\" class=\"dataframe\">\n",
       "  <thead>\n",
       "    <tr style=\"text-align: right;\">\n",
       "      <th></th>\n",
       "      <th>votes</th>\n",
       "    </tr>\n",
       "  </thead>\n",
       "  <tbody>\n",
       "    <tr>\n",
       "      <th>count</th>\n",
       "      <td>51717.000000</td>\n",
       "    </tr>\n",
       "    <tr>\n",
       "      <th>mean</th>\n",
       "      <td>283.697527</td>\n",
       "    </tr>\n",
       "    <tr>\n",
       "      <th>std</th>\n",
       "      <td>803.838853</td>\n",
       "    </tr>\n",
       "    <tr>\n",
       "      <th>min</th>\n",
       "      <td>0.000000</td>\n",
       "    </tr>\n",
       "    <tr>\n",
       "      <th>25%</th>\n",
       "      <td>7.000000</td>\n",
       "    </tr>\n",
       "    <tr>\n",
       "      <th>50%</th>\n",
       "      <td>41.000000</td>\n",
       "    </tr>\n",
       "    <tr>\n",
       "      <th>75%</th>\n",
       "      <td>198.000000</td>\n",
       "    </tr>\n",
       "    <tr>\n",
       "      <th>max</th>\n",
       "      <td>16832.000000</td>\n",
       "    </tr>\n",
       "  </tbody>\n",
       "</table>\n",
       "</div>"
      ],
      "text/plain": [
       "              votes\n",
       "count  51717.000000\n",
       "mean     283.697527\n",
       "std      803.838853\n",
       "min        0.000000\n",
       "25%        7.000000\n",
       "50%       41.000000\n",
       "75%      198.000000\n",
       "max    16832.000000"
      ]
     },
     "execution_count": 9,
     "metadata": {},
     "output_type": "execute_result"
    }
   ],
   "source": [
    "df.describe()"
   ]
  },
  {
   "cell_type": "markdown",
   "id": "824a1610",
   "metadata": {},
   "source": [
    "# Droping duplicate values"
   ]
  },
  {
   "cell_type": "code",
   "execution_count": 10,
   "id": "6da3fe64",
   "metadata": {},
   "outputs": [],
   "source": [
    "df.drop_duplicates(inplace = True)"
   ]
  },
  {
   "cell_type": "code",
   "execution_count": 11,
   "id": "3e617f1e",
   "metadata": {},
   "outputs": [
    {
     "data": {
      "text/plain": [
       "(51609, 11)"
      ]
     },
     "execution_count": 11,
     "metadata": {},
     "output_type": "execute_result"
    }
   ],
   "source": [
    "df.shape"
   ]
  },
  {
   "cell_type": "markdown",
   "id": "97078823",
   "metadata": {},
   "source": [
    "# cleanning  indivisual columns"
   ]
  },
  {
   "cell_type": "code",
   "execution_count": 12,
   "id": "b62631f4",
   "metadata": {},
   "outputs": [
    {
     "data": {
      "text/plain": [
       "array(['4.1/5', '3.8/5', '3.7/5', '3.6/5', '4.6/5', '4.0/5', '4.2/5',\n",
       "       '3.9/5', '3.1/5', '3.0/5', '3.2/5', '3.3/5', '2.8/5', '4.4/5',\n",
       "       '4.3/5', 'NEW', '2.9/5', '3.5/5', nan, '2.6/5', '3.8 /5', '3.4/5',\n",
       "       '4.5/5', '2.5/5', '2.7/5', '4.7/5', '2.4/5', '2.2/5', '2.3/5',\n",
       "       '3.4 /5', '-', '3.6 /5', '4.8/5', '3.9 /5', '4.2 /5', '4.0 /5',\n",
       "       '4.1 /5', '3.7 /5', '3.1 /5', '2.9 /5', '3.3 /5', '2.8 /5',\n",
       "       '3.5 /5', '2.7 /5', '2.5 /5', '3.2 /5', '2.6 /5', '4.5 /5',\n",
       "       '4.3 /5', '4.4 /5', '4.9/5', '2.1/5', '2.0/5', '1.8/5', '4.6 /5',\n",
       "       '4.9 /5', '3.0 /5', '4.8 /5', '2.3 /5', '4.7 /5', '2.4 /5',\n",
       "       '2.1 /5', '2.2 /5', '2.0 /5', '1.8 /5'], dtype=object)"
      ]
     },
     "execution_count": 12,
     "metadata": {},
     "output_type": "execute_result"
    }
   ],
   "source": [
    "df['rate'].unique()"
   ]
  },
  {
   "cell_type": "code",
   "execution_count": 14,
   "id": "d0c84c6c",
   "metadata": {},
   "outputs": [],
   "source": [
    "# Removing 'new', \"-\" and '/5' from column rate"
   ]
  },
  {
   "cell_type": "code",
   "execution_count": 32,
   "id": "e966af0d",
   "metadata": {},
   "outputs": [
    {
     "data": {
      "text/plain": [
       "0    4.1\n",
       "1    4.1\n",
       "2    3.8\n",
       "3    3.7\n",
       "4    3.8\n",
       "Name: rate, dtype: float64"
      ]
     },
     "execution_count": 32,
     "metadata": {},
     "output_type": "execute_result"
    }
   ],
   "source": [
    "def handlerate(value):\n",
    "    if(value=='NEW' or value=='-'):\n",
    "        return np.nan\n",
    "    else:\n",
    "        value = str(value).split('/')\n",
    "        value = value[0]\n",
    "        return float(value)\n",
    "df['rate']= df['rate'].apply(handlerate)\n",
    "df['rate'].head()"
   ]
  },
  {
   "cell_type": "code",
   "execution_count": 16,
   "id": "253ae035",
   "metadata": {},
   "outputs": [
    {
     "data": {
      "text/plain": [
       "name                              0\n",
       "online_order                      0\n",
       "book_table                        0\n",
       "rate                           7755\n",
       "votes                             0\n",
       "location                         21\n",
       "rest_type                       227\n",
       "cuisines                         45\n",
       "approx_cost(for two people)     344\n",
       "listed_in(type)                   0\n",
       "listed_in(city)                   0\n",
       "dtype: int64"
      ]
     },
     "execution_count": 16,
     "metadata": {},
     "output_type": "execute_result"
    }
   ],
   "source": [
    "# checking the null values\n",
    "df.isnull().sum()"
   ]
  },
  {
   "cell_type": "code",
   "execution_count": 128,
   "id": "77570d4f",
   "metadata": {},
   "outputs": [],
   "source": [
    "# Fill Null Values in Rate Column with Mean"
   ]
  },
  {
   "cell_type": "code",
   "execution_count": 34,
   "id": "d7fd9b8d",
   "metadata": {},
   "outputs": [
    {
     "data": {
      "text/plain": [
       "0"
      ]
     },
     "execution_count": 34,
     "metadata": {},
     "output_type": "execute_result"
    }
   ],
   "source": [
    "df['rate'].fillna(df['rate'].mean(), inplace = True)\n",
    "df['rate'].isnull().sum()"
   ]
  },
  {
   "cell_type": "code",
   "execution_count": 22,
   "id": "393a7609",
   "metadata": {},
   "outputs": [],
   "source": [
    "# Dropping null values\n",
    "df.dropna(inplace = True)"
   ]
  },
  {
   "cell_type": "code",
   "execution_count": 23,
   "id": "4cc19e2e",
   "metadata": {},
   "outputs": [
    {
     "data": {
      "text/html": [
       "<div>\n",
       "<style scoped>\n",
       "    .dataframe tbody tr th:only-of-type {\n",
       "        vertical-align: middle;\n",
       "    }\n",
       "\n",
       "    .dataframe tbody tr th {\n",
       "        vertical-align: top;\n",
       "    }\n",
       "\n",
       "    .dataframe thead th {\n",
       "        text-align: right;\n",
       "    }\n",
       "</style>\n",
       "<table border=\"1\" class=\"dataframe\">\n",
       "  <thead>\n",
       "    <tr style=\"text-align: right;\">\n",
       "      <th></th>\n",
       "      <th>name</th>\n",
       "      <th>online_order</th>\n",
       "      <th>book_table</th>\n",
       "      <th>rate</th>\n",
       "      <th>votes</th>\n",
       "      <th>location</th>\n",
       "      <th>rest_type</th>\n",
       "      <th>cuisines</th>\n",
       "      <th>approx_cost(for two people)</th>\n",
       "      <th>listed_in(type)</th>\n",
       "      <th>listed_in(city)</th>\n",
       "    </tr>\n",
       "  </thead>\n",
       "  <tbody>\n",
       "    <tr>\n",
       "      <th>0</th>\n",
       "      <td>Jalsa</td>\n",
       "      <td>Yes</td>\n",
       "      <td>Yes</td>\n",
       "      <td>4.1/5</td>\n",
       "      <td>775</td>\n",
       "      <td>Banashankari</td>\n",
       "      <td>Casual Dining</td>\n",
       "      <td>North Indian, Mughlai, Chinese</td>\n",
       "      <td>800</td>\n",
       "      <td>Buffet</td>\n",
       "      <td>Banashankari</td>\n",
       "    </tr>\n",
       "    <tr>\n",
       "      <th>1</th>\n",
       "      <td>Spice Elephant</td>\n",
       "      <td>Yes</td>\n",
       "      <td>No</td>\n",
       "      <td>4.1/5</td>\n",
       "      <td>787</td>\n",
       "      <td>Banashankari</td>\n",
       "      <td>Casual Dining</td>\n",
       "      <td>Chinese, North Indian, Thai</td>\n",
       "      <td>800</td>\n",
       "      <td>Buffet</td>\n",
       "      <td>Banashankari</td>\n",
       "    </tr>\n",
       "    <tr>\n",
       "      <th>2</th>\n",
       "      <td>San Churro Cafe</td>\n",
       "      <td>Yes</td>\n",
       "      <td>No</td>\n",
       "      <td>3.8/5</td>\n",
       "      <td>918</td>\n",
       "      <td>Banashankari</td>\n",
       "      <td>Cafe, Casual Dining</td>\n",
       "      <td>Cafe, Mexican, Italian</td>\n",
       "      <td>800</td>\n",
       "      <td>Buffet</td>\n",
       "      <td>Banashankari</td>\n",
       "    </tr>\n",
       "    <tr>\n",
       "      <th>3</th>\n",
       "      <td>Addhuri Udupi Bhojana</td>\n",
       "      <td>No</td>\n",
       "      <td>No</td>\n",
       "      <td>3.7/5</td>\n",
       "      <td>88</td>\n",
       "      <td>Banashankari</td>\n",
       "      <td>Quick Bites</td>\n",
       "      <td>South Indian, North Indian</td>\n",
       "      <td>300</td>\n",
       "      <td>Buffet</td>\n",
       "      <td>Banashankari</td>\n",
       "    </tr>\n",
       "    <tr>\n",
       "      <th>4</th>\n",
       "      <td>Grand Village</td>\n",
       "      <td>No</td>\n",
       "      <td>No</td>\n",
       "      <td>3.8/5</td>\n",
       "      <td>166</td>\n",
       "      <td>Basavanagudi</td>\n",
       "      <td>Casual Dining</td>\n",
       "      <td>North Indian, Rajasthani</td>\n",
       "      <td>600</td>\n",
       "      <td>Buffet</td>\n",
       "      <td>Banashankari</td>\n",
       "    </tr>\n",
       "  </tbody>\n",
       "</table>\n",
       "</div>"
      ],
      "text/plain": [
       "                    name online_order book_table   rate  votes      location  \\\n",
       "0                  Jalsa          Yes        Yes  4.1/5    775  Banashankari   \n",
       "1         Spice Elephant          Yes         No  4.1/5    787  Banashankari   \n",
       "2        San Churro Cafe          Yes         No  3.8/5    918  Banashankari   \n",
       "3  Addhuri Udupi Bhojana           No         No  3.7/5     88  Banashankari   \n",
       "4          Grand Village           No         No  3.8/5    166  Basavanagudi   \n",
       "\n",
       "             rest_type                        cuisines  \\\n",
       "0        Casual Dining  North Indian, Mughlai, Chinese   \n",
       "1        Casual Dining     Chinese, North Indian, Thai   \n",
       "2  Cafe, Casual Dining          Cafe, Mexican, Italian   \n",
       "3          Quick Bites      South Indian, North Indian   \n",
       "4        Casual Dining        North Indian, Rajasthani   \n",
       "\n",
       "  approx_cost(for two people) listed_in(type) listed_in(city)  \n",
       "0                         800          Buffet    Banashankari  \n",
       "1                         800          Buffet    Banashankari  \n",
       "2                         800          Buffet    Banashankari  \n",
       "3                         300          Buffet    Banashankari  \n",
       "4                         600          Buffet    Banashankari  "
      ]
     },
     "execution_count": 23,
     "metadata": {},
     "output_type": "execute_result"
    }
   ],
   "source": [
    "df.head()"
   ]
  },
  {
   "cell_type": "code",
   "execution_count": 52,
   "id": "d1331ede",
   "metadata": {},
   "outputs": [],
   "source": [
    "# Rename the columns"
   ]
  },
  {
   "cell_type": "code",
   "execution_count": 24,
   "id": "668d6ba9",
   "metadata": {},
   "outputs": [],
   "source": [
    "df.rename(columns = {'approx_cost(for two people)': 'Cost2plates', 'listed_in(type)': 'type'}, inplace = True)"
   ]
  },
  {
   "cell_type": "code",
   "execution_count": 25,
   "id": "de518c58",
   "metadata": {},
   "outputs": [
    {
     "data": {
      "text/html": [
       "<div>\n",
       "<style scoped>\n",
       "    .dataframe tbody tr th:only-of-type {\n",
       "        vertical-align: middle;\n",
       "    }\n",
       "\n",
       "    .dataframe tbody tr th {\n",
       "        vertical-align: top;\n",
       "    }\n",
       "\n",
       "    .dataframe thead th {\n",
       "        text-align: right;\n",
       "    }\n",
       "</style>\n",
       "<table border=\"1\" class=\"dataframe\">\n",
       "  <thead>\n",
       "    <tr style=\"text-align: right;\">\n",
       "      <th></th>\n",
       "      <th>name</th>\n",
       "      <th>online_order</th>\n",
       "      <th>book_table</th>\n",
       "      <th>rate</th>\n",
       "      <th>votes</th>\n",
       "      <th>location</th>\n",
       "      <th>rest_type</th>\n",
       "      <th>cuisines</th>\n",
       "      <th>Cost2plates</th>\n",
       "      <th>type</th>\n",
       "      <th>listed_in(city)</th>\n",
       "    </tr>\n",
       "  </thead>\n",
       "  <tbody>\n",
       "    <tr>\n",
       "      <th>0</th>\n",
       "      <td>Jalsa</td>\n",
       "      <td>Yes</td>\n",
       "      <td>Yes</td>\n",
       "      <td>4.1/5</td>\n",
       "      <td>775</td>\n",
       "      <td>Banashankari</td>\n",
       "      <td>Casual Dining</td>\n",
       "      <td>North Indian, Mughlai, Chinese</td>\n",
       "      <td>800</td>\n",
       "      <td>Buffet</td>\n",
       "      <td>Banashankari</td>\n",
       "    </tr>\n",
       "    <tr>\n",
       "      <th>1</th>\n",
       "      <td>Spice Elephant</td>\n",
       "      <td>Yes</td>\n",
       "      <td>No</td>\n",
       "      <td>4.1/5</td>\n",
       "      <td>787</td>\n",
       "      <td>Banashankari</td>\n",
       "      <td>Casual Dining</td>\n",
       "      <td>Chinese, North Indian, Thai</td>\n",
       "      <td>800</td>\n",
       "      <td>Buffet</td>\n",
       "      <td>Banashankari</td>\n",
       "    </tr>\n",
       "    <tr>\n",
       "      <th>2</th>\n",
       "      <td>San Churro Cafe</td>\n",
       "      <td>Yes</td>\n",
       "      <td>No</td>\n",
       "      <td>3.8/5</td>\n",
       "      <td>918</td>\n",
       "      <td>Banashankari</td>\n",
       "      <td>Cafe, Casual Dining</td>\n",
       "      <td>Cafe, Mexican, Italian</td>\n",
       "      <td>800</td>\n",
       "      <td>Buffet</td>\n",
       "      <td>Banashankari</td>\n",
       "    </tr>\n",
       "    <tr>\n",
       "      <th>3</th>\n",
       "      <td>Addhuri Udupi Bhojana</td>\n",
       "      <td>No</td>\n",
       "      <td>No</td>\n",
       "      <td>3.7/5</td>\n",
       "      <td>88</td>\n",
       "      <td>Banashankari</td>\n",
       "      <td>Quick Bites</td>\n",
       "      <td>South Indian, North Indian</td>\n",
       "      <td>300</td>\n",
       "      <td>Buffet</td>\n",
       "      <td>Banashankari</td>\n",
       "    </tr>\n",
       "    <tr>\n",
       "      <th>4</th>\n",
       "      <td>Grand Village</td>\n",
       "      <td>No</td>\n",
       "      <td>No</td>\n",
       "      <td>3.8/5</td>\n",
       "      <td>166</td>\n",
       "      <td>Basavanagudi</td>\n",
       "      <td>Casual Dining</td>\n",
       "      <td>North Indian, Rajasthani</td>\n",
       "      <td>600</td>\n",
       "      <td>Buffet</td>\n",
       "      <td>Banashankari</td>\n",
       "    </tr>\n",
       "  </tbody>\n",
       "</table>\n",
       "</div>"
      ],
      "text/plain": [
       "                    name online_order book_table   rate  votes      location  \\\n",
       "0                  Jalsa          Yes        Yes  4.1/5    775  Banashankari   \n",
       "1         Spice Elephant          Yes         No  4.1/5    787  Banashankari   \n",
       "2        San Churro Cafe          Yes         No  3.8/5    918  Banashankari   \n",
       "3  Addhuri Udupi Bhojana           No         No  3.7/5     88  Banashankari   \n",
       "4          Grand Village           No         No  3.8/5    166  Basavanagudi   \n",
       "\n",
       "             rest_type                        cuisines Cost2plates    type  \\\n",
       "0        Casual Dining  North Indian, Mughlai, Chinese         800  Buffet   \n",
       "1        Casual Dining     Chinese, North Indian, Thai         800  Buffet   \n",
       "2  Cafe, Casual Dining          Cafe, Mexican, Italian         800  Buffet   \n",
       "3          Quick Bites      South Indian, North Indian         300  Buffet   \n",
       "4        Casual Dining        North Indian, Rajasthani         600  Buffet   \n",
       "\n",
       "  listed_in(city)  \n",
       "0    Banashankari  \n",
       "1    Banashankari  \n",
       "2    Banashankari  \n",
       "3    Banashankari  \n",
       "4    Banashankari  "
      ]
     },
     "execution_count": 25,
     "metadata": {},
     "output_type": "execute_result"
    }
   ],
   "source": [
    "df.head()"
   ]
  },
  {
   "cell_type": "code",
   "execution_count": 40,
   "id": "60b1055e",
   "metadata": {},
   "outputs": [
    {
     "data": {
      "text/plain": [
       "array(['Banashankari', 'Basavanagudi', 'Mysore Road', 'Jayanagar',\n",
       "       'Kumaraswamy Layout', 'Rajarajeshwari Nagar', 'Vijay Nagar',\n",
       "       'Uttarahalli', 'JP Nagar', 'South Bangalore', 'City Market',\n",
       "       'Nagarbhavi', 'Bannerghatta Road', 'BTM', 'Kanakapura Road',\n",
       "       'Bommanahalli', 'CV Raman Nagar', 'Electronic City', 'HSR',\n",
       "       'Marathahalli', 'Wilson Garden', 'Shanti Nagar',\n",
       "       'Koramangala 5th Block', 'Koramangala 8th Block', 'Richmond Road',\n",
       "       'Koramangala 7th Block', 'Jalahalli', 'Koramangala 4th Block',\n",
       "       'Bellandur', 'Sarjapur Road', 'Whitefield', 'East Bangalore',\n",
       "       'Old Airport Road', 'Indiranagar', 'Koramangala 1st Block',\n",
       "       'Frazer Town', 'RT Nagar', 'MG Road', 'Brigade Road',\n",
       "       'Lavelle Road', 'Church Street', 'Ulsoor', 'Residency Road',\n",
       "       'Shivajinagar', 'Infantry Road', 'St. Marks Road',\n",
       "       'Cunningham Road', 'Race Course Road', 'Commercial Street',\n",
       "       'Vasanth Nagar', 'HBR Layout', 'Domlur', 'Ejipura',\n",
       "       'Jeevan Bhima Nagar', 'Old Madras Road', 'Malleshwaram',\n",
       "       'Seshadripuram', 'Kammanahalli', 'Koramangala 6th Block',\n",
       "       'Majestic', 'Langford Town', 'Central Bangalore', 'Sanjay Nagar',\n",
       "       'Brookefield', 'ITPL Main Road, Whitefield',\n",
       "       'Varthur Main Road, Whitefield', 'KR Puram',\n",
       "       'Koramangala 2nd Block', 'Koramangala 3rd Block', 'Koramangala',\n",
       "       'Hosur Road', 'Rajajinagar', 'Banaswadi', 'North Bangalore',\n",
       "       'Nagawara', 'Hennur', 'Kalyan Nagar', 'New BEL Road', 'Jakkur',\n",
       "       'Rammurthy Nagar', 'Thippasandra', 'Kaggadasapura', 'Hebbal',\n",
       "       'Kengeri', 'Sankey Road', 'Sadashiv Nagar', 'Basaveshwara Nagar',\n",
       "       'Yeshwantpur', 'West Bangalore', 'Magadi Road', 'Yelahanka',\n",
       "       'Sahakara Nagar', 'Peenya'], dtype=object)"
      ]
     },
     "execution_count": 40,
     "metadata": {},
     "output_type": "execute_result"
    }
   ],
   "source": [
    "df['location'].unique()"
   ]
  },
  {
   "cell_type": "code",
   "execution_count": 26,
   "id": "b8586c76",
   "metadata": {},
   "outputs": [
    {
     "data": {
      "text/plain": [
       "array(['800', '300', '600', '700', '550', '500', '450', '650', '400',\n",
       "       '900', '200', '750', '150', '850', '100', '1,200', '350', '250',\n",
       "       '950', '1,000', '1,500', '1,300', '199', '80', '1,100', '160',\n",
       "       '1,600', '230', '130', '1,700', '1,400', '1,350', '2,200', '2,000',\n",
       "       '1,800', '1,900', '180', '330', '2,500', '2,100', '3,000', '2,800',\n",
       "       '3,400', '50', '40', '1,250', '3,500', '4,000', '2,400', '2,600',\n",
       "       '1,450', '70', '3,200', '560', '240', '360', '6,000', '1,050',\n",
       "       '2,300', '4,100', '120', '5,000', '3,700', '1,650', '2,700',\n",
       "       '4,500'], dtype=object)"
      ]
     },
     "execution_count": 26,
     "metadata": {},
     "output_type": "execute_result"
    }
   ],
   "source": [
    "df['Cost2plates'].unique()"
   ]
  },
  {
   "cell_type": "code",
   "execution_count": 132,
   "id": "c1f1b579",
   "metadata": {},
   "outputs": [],
   "source": [
    "# Removing , from Cost2Plates Column"
   ]
  },
  {
   "cell_type": "code",
   "execution_count": 27,
   "id": "cb187c79",
   "metadata": {},
   "outputs": [
    {
     "data": {
      "text/plain": [
       "array([ 800.,  300.,  600.,  700.,  550.,  500.,  450.,  650.,  400.,\n",
       "        900.,  200.,  750.,  150.,  850.,  100., 1200.,  350.,  250.,\n",
       "        950., 1000., 1500., 1300.,  199.,   80., 1100.,  160., 1600.,\n",
       "        230.,  130., 1700., 1400., 1350., 2200., 2000., 1800., 1900.,\n",
       "        180.,  330., 2500., 2100., 3000., 2800., 3400.,   50.,   40.,\n",
       "       1250., 3500., 4000., 2400., 2600., 1450.,   70., 3200.,  560.,\n",
       "        240.,  360., 6000., 1050., 2300., 4100.,  120., 5000., 3700.,\n",
       "       1650., 2700., 4500.])"
      ]
     },
     "execution_count": 27,
     "metadata": {},
     "output_type": "execute_result"
    }
   ],
   "source": [
    "def handlecomma(value):\n",
    "    value = str(value)\n",
    "    if ',' in value:\n",
    "        value = value.replace(',','')\n",
    "        return float(value)\n",
    "    else:\n",
    "        return float(value)\n",
    "    \n",
    "    \n",
    "df['Cost2plates']= df['Cost2plates'].apply(handlecomma)\n",
    "df['Cost2plates'].unique()"
   ]
  },
  {
   "cell_type": "markdown",
   "id": "82840f03",
   "metadata": {},
   "source": [
    "# Cleaning Rest Type Column"
   ]
  },
  {
   "cell_type": "code",
   "execution_count": 28,
   "id": "bdd5b481",
   "metadata": {},
   "outputs": [
    {
     "data": {
      "text/plain": [
       "Quick Bites                   14981\n",
       "Casual Dining                  9859\n",
       "Cafe                           3487\n",
       "Dessert Parlor                 1923\n",
       "Delivery                       1775\n",
       "                              ...  \n",
       "Dessert Parlor, Kiosk             2\n",
       "Dessert Parlor, Food Court        2\n",
       "Food Court, Beverage Shop         2\n",
       "Bakery, Food Court                2\n",
       "Quick Bites, Kiosk                1\n",
       "Name: rest_type, Length: 87, dtype: int64"
      ]
     },
     "execution_count": 28,
     "metadata": {},
     "output_type": "execute_result"
    }
   ],
   "source": [
    "df['rest_type'].value_counts()"
   ]
  },
  {
   "cell_type": "code",
   "execution_count": 35,
   "id": "b772c57a",
   "metadata": {},
   "outputs": [],
   "source": [
    " rest_types = df['rest_type'].value_counts(ascending = False)"
   ]
  },
  {
   "cell_type": "code",
   "execution_count": 36,
   "id": "1ab1b249",
   "metadata": {},
   "outputs": [
    {
     "data": {
      "text/plain": [
       "Bakery                        775\n",
       "Beverage Shop                 700\n",
       "Bar                           650\n",
       "Food Court                    523\n",
       "Bar, Casual Dining            406\n",
       "                             ... \n",
       "Food Court, Beverage Shop       2\n",
       "Bakery, Food Court              2\n",
       "Bakery, Beverage Shop           2\n",
       "Dessert Parlor, Food Court      2\n",
       "Quick Bites, Kiosk              1\n",
       "Name: rest_type, Length: 80, dtype: int64"
      ]
     },
     "execution_count": 36,
     "metadata": {},
     "output_type": "execute_result"
    }
   ],
   "source": [
    "rest_types_lessthan1000 = rest_types[rest_types<1000]\n",
    "rest_types_lessthan1000 "
   ]
  },
  {
   "cell_type": "markdown",
   "id": "31c66e72",
   "metadata": {},
   "source": [
    "\n",
    "# Making Rest Type less than 1000 in frequency as others"
   ]
  },
  {
   "cell_type": "code",
   "execution_count": 119,
   "id": "a25fc0d8",
   "metadata": {},
   "outputs": [
    {
     "data": {
      "text/plain": [
       "Quick Bites           14981\n",
       "Casual Dining          9859\n",
       "others                 8853\n",
       "Cafe                   3487\n",
       "Dessert Parlor         1923\n",
       "Delivery               1775\n",
       "Takeaway, Delivery     1452\n",
       "Casual Dining, Bar     1117\n",
       "Name: rest_type, dtype: int64"
      ]
     },
     "execution_count": 119,
     "metadata": {},
     "output_type": "execute_result"
    }
   ],
   "source": [
    "def handle_rest_type(value):\n",
    "    if(value in rest_types_lessthan1000):\n",
    "        return 'others'\n",
    "    else:\n",
    "        return value\n",
    "\n",
    "df['rest_type']= df['rest_type'].apply(handle_rest_type)\n",
    "df['rest_type'].value_counts()"
   ]
  },
  {
   "cell_type": "markdown",
   "id": "ad10012e",
   "metadata": {},
   "source": [
    "# Cleaning location Column"
   ]
  },
  {
   "cell_type": "code",
   "execution_count": 36,
   "id": "3249268d",
   "metadata": {},
   "outputs": [
    {
     "data": {
      "text/plain": [
       "BTM                      5056\n",
       "HSR                      2494\n",
       "Koramangala 5th Block    2479\n",
       "JP Nagar                 2218\n",
       "Whitefield               2105\n",
       "                         ... \n",
       "West Bangalore              6\n",
       "Yelahanka                   5\n",
       "Jakkur                      3\n",
       "Rajarajeshwari Nagar        2\n",
       "Peenya                      1\n",
       "Name: location, Length: 93, dtype: int64"
      ]
     },
     "execution_count": 36,
     "metadata": {},
     "output_type": "execute_result"
    }
   ],
   "source": [
    "df['location'].value_counts()"
   ]
  },
  {
   "cell_type": "code",
   "execution_count": 120,
   "id": "c0be3695",
   "metadata": {},
   "outputs": [
    {
     "data": {
      "text/plain": [
       "BTM                      4201\n",
       "Koramangala 5th Block    2356\n",
       "HSR                      2100\n",
       "Indiranagar              1882\n",
       "JP Nagar                 1841\n",
       "                         ... \n",
       "West Bangalore              5\n",
       "Yelahanka                   4\n",
       "Rajarajeshwari Nagar        2\n",
       "Peenya                      1\n",
       "Nagarbhavi                  1\n",
       "Name: location, Length: 92, dtype: int64"
      ]
     },
     "execution_count": 120,
     "metadata": {},
     "output_type": "execute_result"
    }
   ],
   "source": [
    "def handle_location(value):\n",
    "    if(value in location_lessthan1000):\n",
    "        return 'others'\n",
    "    else:\n",
    "        return value\n",
    "\n",
    "df['location']= df['location'].apply(handle_rest_type)\n",
    "df['location'].value_counts()"
   ]
  },
  {
   "cell_type": "markdown",
   "id": "a83cc2ff",
   "metadata": {},
   "source": [
    "# Cleaning Cuisines Column"
   ]
  },
  {
   "cell_type": "code",
   "execution_count": 121,
   "id": "760cdf74",
   "metadata": {},
   "outputs": [
    {
     "data": {
      "text/plain": [
       "North Indian                                           2241\n",
       "North Indian, Chinese                                  2029\n",
       "South Indian                                           1317\n",
       "Bakery, Desserts                                        642\n",
       "Biryani                                                 632\n",
       "                                                       ... \n",
       "Sandwich, Juices, Burger                                  1\n",
       "Biryani, Hyderabadi, Charcoal Chicken, North Indian       1\n",
       "Cafe, Continental, Steak                                  1\n",
       "North Indian, Mexican, Continental, Street Food           1\n",
       "Beverages, Sandwich, Fast Food                            1\n",
       "Name: cuisines, Length: 2487, dtype: int64"
      ]
     },
     "execution_count": 121,
     "metadata": {},
     "output_type": "execute_result"
    }
   ],
   "source": [
    "df['cuisines'].value_counts()"
   ]
  },
  {
   "cell_type": "code",
   "execution_count": 122,
   "id": "87cc8b1a",
   "metadata": {},
   "outputs": [
    {
     "data": {
      "text/html": [
       "<div>\n",
       "<style scoped>\n",
       "    .dataframe tbody tr th:only-of-type {\n",
       "        vertical-align: middle;\n",
       "    }\n",
       "\n",
       "    .dataframe tbody tr th {\n",
       "        vertical-align: top;\n",
       "    }\n",
       "\n",
       "    .dataframe thead th {\n",
       "        text-align: right;\n",
       "    }\n",
       "</style>\n",
       "<table border=\"1\" class=\"dataframe\">\n",
       "  <thead>\n",
       "    <tr style=\"text-align: right;\">\n",
       "      <th></th>\n",
       "      <th>name</th>\n",
       "      <th>online_order</th>\n",
       "      <th>book_table</th>\n",
       "      <th>rate</th>\n",
       "      <th>votes</th>\n",
       "      <th>location</th>\n",
       "      <th>rest_type</th>\n",
       "      <th>cuisines</th>\n",
       "      <th>approx_cost(for two people)</th>\n",
       "      <th>listed_in(type)</th>\n",
       "      <th>listed_in(city)</th>\n",
       "    </tr>\n",
       "  </thead>\n",
       "  <tbody>\n",
       "    <tr>\n",
       "      <th>0</th>\n",
       "      <td>Jalsa</td>\n",
       "      <td>Yes</td>\n",
       "      <td>Yes</td>\n",
       "      <td>4.1</td>\n",
       "      <td>775</td>\n",
       "      <td>Banashankari</td>\n",
       "      <td>Casual Dining</td>\n",
       "      <td>North Indian, Mughlai, Chinese</td>\n",
       "      <td>800</td>\n",
       "      <td>Buffet</td>\n",
       "      <td>Banashankari</td>\n",
       "    </tr>\n",
       "    <tr>\n",
       "      <th>1</th>\n",
       "      <td>Spice Elephant</td>\n",
       "      <td>Yes</td>\n",
       "      <td>No</td>\n",
       "      <td>4.1</td>\n",
       "      <td>787</td>\n",
       "      <td>Banashankari</td>\n",
       "      <td>Casual Dining</td>\n",
       "      <td>Chinese, North Indian, Thai</td>\n",
       "      <td>800</td>\n",
       "      <td>Buffet</td>\n",
       "      <td>Banashankari</td>\n",
       "    </tr>\n",
       "    <tr>\n",
       "      <th>2</th>\n",
       "      <td>San Churro Cafe</td>\n",
       "      <td>Yes</td>\n",
       "      <td>No</td>\n",
       "      <td>3.8</td>\n",
       "      <td>918</td>\n",
       "      <td>Banashankari</td>\n",
       "      <td>others</td>\n",
       "      <td>Cafe, Mexican, Italian</td>\n",
       "      <td>800</td>\n",
       "      <td>Buffet</td>\n",
       "      <td>Banashankari</td>\n",
       "    </tr>\n",
       "    <tr>\n",
       "      <th>3</th>\n",
       "      <td>Addhuri Udupi Bhojana</td>\n",
       "      <td>No</td>\n",
       "      <td>No</td>\n",
       "      <td>3.7</td>\n",
       "      <td>88</td>\n",
       "      <td>Banashankari</td>\n",
       "      <td>Quick Bites</td>\n",
       "      <td>South Indian, North Indian</td>\n",
       "      <td>300</td>\n",
       "      <td>Buffet</td>\n",
       "      <td>Banashankari</td>\n",
       "    </tr>\n",
       "    <tr>\n",
       "      <th>4</th>\n",
       "      <td>Grand Village</td>\n",
       "      <td>No</td>\n",
       "      <td>No</td>\n",
       "      <td>3.8</td>\n",
       "      <td>166</td>\n",
       "      <td>Basavanagudi</td>\n",
       "      <td>Casual Dining</td>\n",
       "      <td>North Indian, Rajasthani</td>\n",
       "      <td>600</td>\n",
       "      <td>Buffet</td>\n",
       "      <td>Banashankari</td>\n",
       "    </tr>\n",
       "  </tbody>\n",
       "</table>\n",
       "</div>"
      ],
      "text/plain": [
       "                    name online_order book_table  rate  votes      location  \\\n",
       "0                  Jalsa          Yes        Yes   4.1    775  Banashankari   \n",
       "1         Spice Elephant          Yes         No   4.1    787  Banashankari   \n",
       "2        San Churro Cafe          Yes         No   3.8    918  Banashankari   \n",
       "3  Addhuri Udupi Bhojana           No         No   3.7     88  Banashankari   \n",
       "4          Grand Village           No         No   3.8    166  Basavanagudi   \n",
       "\n",
       "       rest_type                        cuisines approx_cost(for two people)  \\\n",
       "0  Casual Dining  North Indian, Mughlai, Chinese                         800   \n",
       "1  Casual Dining     Chinese, North Indian, Thai                         800   \n",
       "2         others          Cafe, Mexican, Italian                         800   \n",
       "3    Quick Bites      South Indian, North Indian                         300   \n",
       "4  Casual Dining        North Indian, Rajasthani                         600   \n",
       "\n",
       "  listed_in(type) listed_in(city)  \n",
       "0          Buffet    Banashankari  \n",
       "1          Buffet    Banashankari  \n",
       "2          Buffet    Banashankari  \n",
       "3          Buffet    Banashankari  \n",
       "4          Buffet    Banashankari  "
      ]
     },
     "execution_count": 122,
     "metadata": {},
     "output_type": "execute_result"
    }
   ],
   "source": [
    "df.head()"
   ]
  },
  {
   "cell_type": "code",
   "execution_count": 123,
   "id": "2e92688f",
   "metadata": {},
   "outputs": [
    {
     "data": {
      "text/plain": [
       "North Indian                                           2241\n",
       "North Indian, Chinese                                  2029\n",
       "South Indian                                           1317\n",
       "Bakery, Desserts                                        642\n",
       "Biryani                                                 632\n",
       "                                                       ... \n",
       "Sandwich, Juices, Burger                                  1\n",
       "Biryani, Hyderabadi, Charcoal Chicken, North Indian       1\n",
       "Cafe, Continental, Steak                                  1\n",
       "North Indian, Mexican, Continental, Street Food           1\n",
       "Beverages, Sandwich, Fast Food                            1\n",
       "Name: cuisines, Length: 2485, dtype: int64"
      ]
     },
     "execution_count": 123,
     "metadata": {},
     "output_type": "execute_result"
    }
   ],
   "source": [
    "def handle_cuisines(value):\n",
    "    if(value in cuisines_lessthan100):\n",
    "        return 'others'\n",
    "    else:\n",
    "        return value\n",
    "\n",
    "df['cuisines']= df['cuisines'].apply(handle_rest_type)\n",
    "df['cuisines'].value_counts()"
   ]
  },
  {
   "cell_type": "markdown",
   "id": "9e9d5454",
   "metadata": {},
   "source": [
    "# Cleaning Type Column"
   ]
  },
  {
   "cell_type": "code",
   "execution_count": 129,
   "id": "1ad052fa",
   "metadata": {},
   "outputs": [
    {
     "data": {
      "text/plain": [
       "Delivery              21605\n",
       "Dine-out              14816\n",
       "Desserts               2849\n",
       "Cafes                  1589\n",
       "Drinks & nightlife     1066\n",
       "Buffet                  864\n",
       "Pubs and bars           658\n",
       "Name: type, dtype: int64"
      ]
     },
     "execution_count": 129,
     "metadata": {},
     "output_type": "execute_result"
    }
   ],
   "source": [
    "df['type'].value_counts()"
   ]
  },
  {
   "cell_type": "markdown",
   "id": "4d6178ed",
   "metadata": {},
   "source": [
    "# count plot  of various location"
   ]
  },
  {
   "cell_type": "code",
   "execution_count": 145,
   "id": "2bab2f5e",
   "metadata": {},
   "outputs": [
    {
     "data": {
      "text/plain": [
       "(array([ 0,  1,  2,  3,  4,  5,  6,  7,  8,  9, 10, 11, 12, 13, 14, 15, 16,\n",
       "        17, 18, 19, 20, 21, 22, 23, 24, 25, 26, 27, 28, 29, 30, 31, 32, 33,\n",
       "        34, 35, 36, 37, 38, 39, 40, 41, 42, 43, 44, 45, 46, 47, 48, 49, 50,\n",
       "        51, 52, 53, 54, 55, 56, 57, 58, 59, 60, 61, 62, 63, 64, 65, 66, 67,\n",
       "        68, 69, 70, 71, 72, 73, 74, 75, 76, 77, 78, 79, 80, 81, 82, 83, 84,\n",
       "        85, 86, 87, 88, 89, 90, 91]),\n",
       " [Text(0, 0, 'Banashankari'),\n",
       "  Text(1, 0, 'Basavanagudi'),\n",
       "  Text(2, 0, 'Mysore Road'),\n",
       "  Text(3, 0, 'Jayanagar'),\n",
       "  Text(4, 0, 'Kumaraswamy Layout'),\n",
       "  Text(5, 0, 'Rajarajeshwari Nagar'),\n",
       "  Text(6, 0, 'Vijay Nagar'),\n",
       "  Text(7, 0, 'Uttarahalli'),\n",
       "  Text(8, 0, 'JP Nagar'),\n",
       "  Text(9, 0, 'South Bangalore'),\n",
       "  Text(10, 0, 'City Market'),\n",
       "  Text(11, 0, 'Bannerghatta Road'),\n",
       "  Text(12, 0, 'BTM'),\n",
       "  Text(13, 0, 'Kanakapura Road'),\n",
       "  Text(14, 0, 'Bommanahalli'),\n",
       "  Text(15, 0, 'CV Raman Nagar'),\n",
       "  Text(16, 0, 'Electronic City'),\n",
       "  Text(17, 0, 'Wilson Garden'),\n",
       "  Text(18, 0, 'Shanti Nagar'),\n",
       "  Text(19, 0, 'Koramangala 5th Block'),\n",
       "  Text(20, 0, 'Richmond Road'),\n",
       "  Text(21, 0, 'HSR'),\n",
       "  Text(22, 0, 'Marathahalli'),\n",
       "  Text(23, 0, 'Koramangala 7th Block'),\n",
       "  Text(24, 0, 'Bellandur'),\n",
       "  Text(25, 0, 'Sarjapur Road'),\n",
       "  Text(26, 0, 'Whitefield'),\n",
       "  Text(27, 0, 'East Bangalore'),\n",
       "  Text(28, 0, 'Old Airport Road'),\n",
       "  Text(29, 0, 'Indiranagar'),\n",
       "  Text(30, 0, 'Koramangala 1st Block'),\n",
       "  Text(31, 0, 'Frazer Town'),\n",
       "  Text(32, 0, 'MG Road'),\n",
       "  Text(33, 0, 'Brigade Road'),\n",
       "  Text(34, 0, 'Lavelle Road'),\n",
       "  Text(35, 0, 'Church Street'),\n",
       "  Text(36, 0, 'Ulsoor'),\n",
       "  Text(37, 0, 'Residency Road'),\n",
       "  Text(38, 0, 'Shivajinagar'),\n",
       "  Text(39, 0, 'Infantry Road'),\n",
       "  Text(40, 0, 'St. Marks Road'),\n",
       "  Text(41, 0, 'Cunningham Road'),\n",
       "  Text(42, 0, 'Race Course Road'),\n",
       "  Text(43, 0, 'Commercial Street'),\n",
       "  Text(44, 0, 'Vasanth Nagar'),\n",
       "  Text(45, 0, 'Domlur'),\n",
       "  Text(46, 0, 'Koramangala 8th Block'),\n",
       "  Text(47, 0, 'Ejipura'),\n",
       "  Text(48, 0, 'Jeevan Bhima Nagar'),\n",
       "  Text(49, 0, 'Old Madras Road'),\n",
       "  Text(50, 0, 'Seshadripuram'),\n",
       "  Text(51, 0, 'Kammanahalli'),\n",
       "  Text(52, 0, 'Koramangala 6th Block'),\n",
       "  Text(53, 0, 'Majestic'),\n",
       "  Text(54, 0, 'Langford Town'),\n",
       "  Text(55, 0, 'Central Bangalore'),\n",
       "  Text(56, 0, 'Sanjay Nagar'),\n",
       "  Text(57, 0, 'Brookefield'),\n",
       "  Text(58, 0, 'ITPL Main Road, Whitefield'),\n",
       "  Text(59, 0, 'Varthur Main Road, Whitefield'),\n",
       "  Text(60, 0, 'Koramangala 2nd Block'),\n",
       "  Text(61, 0, 'Koramangala 3rd Block'),\n",
       "  Text(62, 0, 'Koramangala 4th Block'),\n",
       "  Text(63, 0, 'Koramangala'),\n",
       "  Text(64, 0, 'Hosur Road'),\n",
       "  Text(65, 0, 'Rajajinagar'),\n",
       "  Text(66, 0, 'RT Nagar'),\n",
       "  Text(67, 0, 'Banaswadi'),\n",
       "  Text(68, 0, 'North Bangalore'),\n",
       "  Text(69, 0, 'Nagawara'),\n",
       "  Text(70, 0, 'Hennur'),\n",
       "  Text(71, 0, 'Kalyan Nagar'),\n",
       "  Text(72, 0, 'HBR Layout'),\n",
       "  Text(73, 0, 'Rammurthy Nagar'),\n",
       "  Text(74, 0, 'Thippasandra'),\n",
       "  Text(75, 0, 'Kaggadasapura'),\n",
       "  Text(76, 0, 'Hebbal'),\n",
       "  Text(77, 0, 'Kengeri'),\n",
       "  Text(78, 0, 'New BEL Road'),\n",
       "  Text(79, 0, 'Sankey Road'),\n",
       "  Text(80, 0, 'Malleshwaram'),\n",
       "  Text(81, 0, 'Sadashiv Nagar'),\n",
       "  Text(82, 0, 'Basaveshwara Nagar'),\n",
       "  Text(83, 0, 'Yeshwantpur'),\n",
       "  Text(84, 0, 'West Bangalore'),\n",
       "  Text(85, 0, 'Magadi Road'),\n",
       "  Text(86, 0, 'Yelahanka'),\n",
       "  Text(87, 0, 'Sahakara Nagar'),\n",
       "  Text(88, 0, 'Jalahalli'),\n",
       "  Text(89, 0, 'Nagarbhavi'),\n",
       "  Text(90, 0, 'Peenya'),\n",
       "  Text(91, 0, 'KR Puram')])"
      ]
     },
     "execution_count": 145,
     "metadata": {},
     "output_type": "execute_result"
    },
    {
     "data": {
      "image/png": "[encoded data removed]",
      "text/plain": [
       "<Figure size 1152x720 with 1 Axes>"
      ]
     },
     "metadata": {},
     "output_type": "display_data"
    }
   ],
   "source": [
    "plt.figure(figsize = (16,10))\n",
    "ax = sns.countplot(df['location'],data = df)\n",
    "plt.xticks(rotation = 90)"
   ]
  },
  {
   "cell_type": "markdown",
   "id": "c319bb2e",
   "metadata": {},
   "source": [
    "#  Restaurants delivering Online or not\n"
   ]
  },
  {
   "cell_type": "code",
   "execution_count": 157,
   "id": "4ff9dae9",
   "metadata": {},
   "outputs": [
    {
     "data": {
      "image/png": "[encoded data removed]",
      "text/plain": [
       "<Figure size 432x432 with 1 Axes>"
      ]
     },
     "metadata": {},
     "output_type": "display_data"
    }
   ],
   "source": [
    "plt.figure(figsize = (6,6))\n",
    "sns.countplot(df['online_order'],data = df);"
   ]
  },
  {
   "cell_type": "markdown",
   "id": "03f81da4",
   "metadata": {},
   "source": [
    "#  Restaurants allowing table booking or not "
   ]
  },
  {
   "cell_type": "code",
   "execution_count": 153,
   "id": "6974938a",
   "metadata": {},
   "outputs": [
    {
     "data": {
      "image/png": "[encoded data removed]",
      "text/plain": [
       "<Figure size 432x432 with 1 Axes>"
      ]
     },
     "metadata": {},
     "output_type": "display_data"
    }
   ],
   "source": [
    "plt.figure(figsize = (6,6))\n",
    "sns.countplot(df['book_table'], palette = 'inferno', data = df);\n",
    "\n"
   ]
  },
  {
   "cell_type": "markdown",
   "id": "666a15d6",
   "metadata": {},
   "source": [
    "#  Online order V/s Rate"
   ]
  },
  {
   "cell_type": "code",
   "execution_count": 193,
   "id": "7a6128db",
   "metadata": {},
   "outputs": [
    {
     "data": {
      "image/png": "[encoded data removed]",
      "text/plain": [
       "<Figure size 432x432 with 1 Axes>"
      ]
     },
     "metadata": {},
     "output_type": "display_data"
    }
   ],
   "source": [
    "plt.figure(figsize = (6,6))\n",
    "sns.boxplot(x = 'online_order',y = 'rate', data =df);"
   ]
  },
  {
   "cell_type": "markdown",
   "id": "62a33869",
   "metadata": {},
   "source": [
    "# Best location vs Rate"
   ]
  },
  {
   "cell_type": "code",
   "execution_count": 51,
   "id": "ea12c64a",
   "metadata": {},
   "outputs": [
    {
     "data": {
      "image/png": "[encoded data removed]",
      "text/plain": [
       "<Figure size 432x288 with 2 Axes>"
      ]
     },
     "metadata": {
      "needs_background": "light"
     },
     "output_type": "display_data"
    }
   ],
   "source": [
    "location_rating = df.groupby('location')['rate'].mean().reset_index()\n",
    "heatmap_data = pd.pivot_table(location_rating, values='rate', index='location')\n",
    "sns.heatmap(heatmap_data, cmap='YlGnBu')\n",
    "plt.title('Best Location based on Rating')\n",
    "plt.show()"
   ]
  },
  {
   "cell_type": "markdown",
   "id": "a637e563",
   "metadata": {},
   "source": [
    "# Restaurant Type"
   ]
  },
  {
   "cell_type": "code",
   "execution_count": 59,
   "id": "f3eb732c",
   "metadata": {},
   "outputs": [
    {
     "data": {
      "image/png": "[encoded data removed]",
      "text/plain": [
       "<Figure size 432x288 with 1 Axes>"
      ]
     },
     "metadata": {},
     "output_type": "display_data"
    }
   ],
   "source": [
    "df['rest_type'].value_counts().head().plot(kind='pie')\n",
    "plt.title('Restaurant Type')\n",
    "\n",
    "plt.show()"
   ]
  },
  {
   "cell_type": "markdown",
   "id": "e6d1a1ee",
   "metadata": {},
   "source": [
    "# Cost of restaurant"
   ]
  },
  {
   "cell_type": "code",
   "execution_count": 113,
   "id": "583cd596",
   "metadata": {},
   "outputs": [
    {
     "data": {
      "image/png": "[encoded data removed]",
      "text/plain": [
       "<Figure size 432x288 with 1 Axes>"
      ]
     },
     "metadata": {
      "needs_background": "light"
     },
     "output_type": "display_data"
    },
    {
     "data": {
      "text/plain": [
       "<Figure size 720x504 with 0 Axes>"
      ]
     },
     "metadata": {},
     "output_type": "display_data"
    }
   ],
   "source": [
    "# Cost of restaurant\n",
    "plt.hist(df['approx_cost(for two people)'])\n",
    "plt.title('Cost of Restaurants')\n",
    "plt.figure(figsize = [10,7])\n",
    "plt.show()"
   ]
  },
  {
   "cell_type": "code",
   "execution_count": 65,
   "id": "00dac9f4",
   "metadata": {},
   "outputs": [
    {
     "data": {
      "text/html": [
       "<div>\n",
       "<style scoped>\n",
       "    .dataframe tbody tr th:only-of-type {\n",
       "        vertical-align: middle;\n",
       "    }\n",
       "\n",
       "    .dataframe tbody tr th {\n",
       "        vertical-align: top;\n",
       "    }\n",
       "\n",
       "    .dataframe thead th {\n",
       "        text-align: right;\n",
       "    }\n",
       "</style>\n",
       "<table border=\"1\" class=\"dataframe\">\n",
       "  <thead>\n",
       "    <tr style=\"text-align: right;\">\n",
       "      <th></th>\n",
       "      <th>url</th>\n",
       "      <th>address</th>\n",
       "      <th>name</th>\n",
       "      <th>online_order</th>\n",
       "      <th>book_table</th>\n",
       "      <th>rate</th>\n",
       "      <th>votes</th>\n",
       "      <th>phone</th>\n",
       "      <th>location</th>\n",
       "      <th>rest_type</th>\n",
       "      <th>dish_liked</th>\n",
       "      <th>cuisines</th>\n",
       "      <th>approx_cost(for two people)</th>\n",
       "      <th>reviews_list</th>\n",
       "      <th>menu_item</th>\n",
       "      <th>listed_in(type)</th>\n",
       "      <th>listed_in(city)</th>\n",
       "    </tr>\n",
       "  </thead>\n",
       "  <tbody>\n",
       "    <tr>\n",
       "      <th>0</th>\n",
       "      <td>https://www.zomato.com/bangalore/jalsa-banasha...</td>\n",
       "      <td>942, 21st Main Road, 2nd Stage, Banashankari, ...</td>\n",
       "      <td>Jalsa</td>\n",
       "      <td>Yes</td>\n",
       "      <td>Yes</td>\n",
       "      <td>4.1/5</td>\n",
       "      <td>775</td>\n",
       "      <td>080 42297555\\r\\n+91 9743772233</td>\n",
       "      <td>Banashankari</td>\n",
       "      <td>Casual Dining</td>\n",
       "      <td>Pasta, Lunch Buffet, Masala Papad, Paneer Laja...</td>\n",
       "      <td>North Indian, Mughlai, Chinese</td>\n",
       "      <td>800</td>\n",
       "      <td>[('Rated 4.0', 'RATED\\n  A beautiful place to ...</td>\n",
       "      <td>[]</td>\n",
       "      <td>Buffet</td>\n",
       "      <td>Banashankari</td>\n",
       "    </tr>\n",
       "    <tr>\n",
       "      <th>1</th>\n",
       "      <td>https://www.zomato.com/bangalore/spice-elephan...</td>\n",
       "      <td>2nd Floor, 80 Feet Road, Near Big Bazaar, 6th ...</td>\n",
       "      <td>Spice Elephant</td>\n",
       "      <td>Yes</td>\n",
       "      <td>No</td>\n",
       "      <td>4.1/5</td>\n",
       "      <td>787</td>\n",
       "      <td>080 41714161</td>\n",
       "      <td>Banashankari</td>\n",
       "      <td>Casual Dining</td>\n",
       "      <td>Momos, Lunch Buffet, Chocolate Nirvana, Thai G...</td>\n",
       "      <td>Chinese, North Indian, Thai</td>\n",
       "      <td>800</td>\n",
       "      <td>[('Rated 4.0', 'RATED\\n  Had been here for din...</td>\n",
       "      <td>[]</td>\n",
       "      <td>Buffet</td>\n",
       "      <td>Banashankari</td>\n",
       "    </tr>\n",
       "    <tr>\n",
       "      <th>2</th>\n",
       "      <td>https://www.zomato.com/SanchurroBangalore?cont...</td>\n",
       "      <td>1112, Next to KIMS Medical College, 17th Cross...</td>\n",
       "      <td>San Churro Cafe</td>\n",
       "      <td>Yes</td>\n",
       "      <td>No</td>\n",
       "      <td>3.8/5</td>\n",
       "      <td>918</td>\n",
       "      <td>+91 9663487993</td>\n",
       "      <td>Banashankari</td>\n",
       "      <td>Cafe, Casual Dining</td>\n",
       "      <td>Churros, Cannelloni, Minestrone Soup, Hot Choc...</td>\n",
       "      <td>Cafe, Mexican, Italian</td>\n",
       "      <td>800</td>\n",
       "      <td>[('Rated 3.0', \"RATED\\n  Ambience is not that ...</td>\n",
       "      <td>[]</td>\n",
       "      <td>Buffet</td>\n",
       "      <td>Banashankari</td>\n",
       "    </tr>\n",
       "    <tr>\n",
       "      <th>3</th>\n",
       "      <td>https://www.zomato.com/bangalore/addhuri-udupi...</td>\n",
       "      <td>1st Floor, Annakuteera, 3rd Stage, Banashankar...</td>\n",
       "      <td>Addhuri Udupi Bhojana</td>\n",
       "      <td>No</td>\n",
       "      <td>No</td>\n",
       "      <td>3.7/5</td>\n",
       "      <td>88</td>\n",
       "      <td>+91 9620009302</td>\n",
       "      <td>Banashankari</td>\n",
       "      <td>Quick Bites</td>\n",
       "      <td>Masala Dosa</td>\n",
       "      <td>South Indian, North Indian</td>\n",
       "      <td>300</td>\n",
       "      <td>[('Rated 4.0', \"RATED\\n  Great food and proper...</td>\n",
       "      <td>[]</td>\n",
       "      <td>Buffet</td>\n",
       "      <td>Banashankari</td>\n",
       "    </tr>\n",
       "    <tr>\n",
       "      <th>4</th>\n",
       "      <td>https://www.zomato.com/bangalore/grand-village...</td>\n",
       "      <td>10, 3rd Floor, Lakshmi Associates, Gandhi Baza...</td>\n",
       "      <td>Grand Village</td>\n",
       "      <td>No</td>\n",
       "      <td>No</td>\n",
       "      <td>3.8/5</td>\n",
       "      <td>166</td>\n",
       "      <td>+91 8026612447\\r\\n+91 9901210005</td>\n",
       "      <td>Basavanagudi</td>\n",
       "      <td>Casual Dining</td>\n",
       "      <td>Panipuri, Gol Gappe</td>\n",
       "      <td>North Indian, Rajasthani</td>\n",
       "      <td>600</td>\n",
       "      <td>[('Rated 4.0', 'RATED\\n  Very good restaurant ...</td>\n",
       "      <td>[]</td>\n",
       "      <td>Buffet</td>\n",
       "      <td>Banashankari</td>\n",
       "    </tr>\n",
       "  </tbody>\n",
       "</table>\n",
       "</div>"
      ],
      "text/plain": [
       "                                                 url  \\\n",
       "0  https://www.zomato.com/bangalore/jalsa-banasha...   \n",
       "1  https://www.zomato.com/bangalore/spice-elephan...   \n",
       "2  https://www.zomato.com/SanchurroBangalore?cont...   \n",
       "3  https://www.zomato.com/bangalore/addhuri-udupi...   \n",
       "4  https://www.zomato.com/bangalore/grand-village...   \n",
       "\n",
       "                                             address                   name  \\\n",
       "0  942, 21st Main Road, 2nd Stage, Banashankari, ...                  Jalsa   \n",
       "1  2nd Floor, 80 Feet Road, Near Big Bazaar, 6th ...         Spice Elephant   \n",
       "2  1112, Next to KIMS Medical College, 17th Cross...        San Churro Cafe   \n",
       "3  1st Floor, Annakuteera, 3rd Stage, Banashankar...  Addhuri Udupi Bhojana   \n",
       "4  10, 3rd Floor, Lakshmi Associates, Gandhi Baza...          Grand Village   \n",
       "\n",
       "  online_order book_table   rate  votes                             phone  \\\n",
       "0          Yes        Yes  4.1/5    775    080 42297555\\r\\n+91 9743772233   \n",
       "1          Yes         No  4.1/5    787                      080 41714161   \n",
       "2          Yes         No  3.8/5    918                    +91 9663487993   \n",
       "3           No         No  3.7/5     88                    +91 9620009302   \n",
       "4           No         No  3.8/5    166  +91 8026612447\\r\\n+91 9901210005   \n",
       "\n",
       "       location            rest_type  \\\n",
       "0  Banashankari        Casual Dining   \n",
       "1  Banashankari        Casual Dining   \n",
       "2  Banashankari  Cafe, Casual Dining   \n",
       "3  Banashankari          Quick Bites   \n",
       "4  Basavanagudi        Casual Dining   \n",
       "\n",
       "                                          dish_liked  \\\n",
       "0  Pasta, Lunch Buffet, Masala Papad, Paneer Laja...   \n",
       "1  Momos, Lunch Buffet, Chocolate Nirvana, Thai G...   \n",
       "2  Churros, Cannelloni, Minestrone Soup, Hot Choc...   \n",
       "3                                        Masala Dosa   \n",
       "4                                Panipuri, Gol Gappe   \n",
       "\n",
       "                         cuisines approx_cost(for two people)  \\\n",
       "0  North Indian, Mughlai, Chinese                         800   \n",
       "1     Chinese, North Indian, Thai                         800   \n",
       "2          Cafe, Mexican, Italian                         800   \n",
       "3      South Indian, North Indian                         300   \n",
       "4        North Indian, Rajasthani                         600   \n",
       "\n",
       "                                        reviews_list menu_item  \\\n",
       "0  [('Rated 4.0', 'RATED\\n  A beautiful place to ...        []   \n",
       "1  [('Rated 4.0', 'RATED\\n  Had been here for din...        []   \n",
       "2  [('Rated 3.0', \"RATED\\n  Ambience is not that ...        []   \n",
       "3  [('Rated 4.0', \"RATED\\n  Great food and proper...        []   \n",
       "4  [('Rated 4.0', 'RATED\\n  Very good restaurant ...        []   \n",
       "\n",
       "  listed_in(type) listed_in(city)  \n",
       "0          Buffet    Banashankari  \n",
       "1          Buffet    Banashankari  \n",
       "2          Buffet    Banashankari  \n",
       "3          Buffet    Banashankari  \n",
       "4          Buffet    Banashankari  "
      ]
     },
     "execution_count": 65,
     "metadata": {},
     "output_type": "execute_result"
    }
   ],
   "source": [
    "df.head()"
   ]
  },
  {
   "cell_type": "markdown",
   "id": "1ea74448",
   "metadata": {},
   "source": [
    "#  Online Order Facility, Location wise"
   ]
  },
  {
   "cell_type": "code",
   "execution_count": 16,
   "id": "ffe9b458",
   "metadata": {},
   "outputs": [
    {
     "data": {
      "text/html": [
       "<div>\n",
       "<style scoped>\n",
       "    .dataframe tbody tr th:only-of-type {\n",
       "        vertical-align: middle;\n",
       "    }\n",
       "\n",
       "    .dataframe tbody tr th {\n",
       "        vertical-align: top;\n",
       "    }\n",
       "\n",
       "    .dataframe thead tr th {\n",
       "        text-align: left;\n",
       "    }\n",
       "\n",
       "    .dataframe thead tr:last-of-type th {\n",
       "        text-align: right;\n",
       "    }\n",
       "</style>\n",
       "<table border=\"1\" class=\"dataframe\">\n",
       "  <thead>\n",
       "    <tr>\n",
       "      <th></th>\n",
       "      <th colspan=\"2\" halign=\"left\">name</th>\n",
       "    </tr>\n",
       "    <tr>\n",
       "      <th>online_order</th>\n",
       "      <th>No</th>\n",
       "      <th>Yes</th>\n",
       "    </tr>\n",
       "    <tr>\n",
       "      <th>location</th>\n",
       "      <th></th>\n",
       "      <th></th>\n",
       "    </tr>\n",
       "  </thead>\n",
       "  <tbody>\n",
       "    <tr>\n",
       "      <th>BTM</th>\n",
       "      <td>1792.0</td>\n",
       "      <td>3332.0</td>\n",
       "    </tr>\n",
       "    <tr>\n",
       "      <th>Banashankari</th>\n",
       "      <td>397.0</td>\n",
       "      <td>509.0</td>\n",
       "    </tr>\n",
       "    <tr>\n",
       "      <th>Banaswadi</th>\n",
       "      <td>321.0</td>\n",
       "      <td>343.0</td>\n",
       "    </tr>\n",
       "    <tr>\n",
       "      <th>Bannerghatta Road</th>\n",
       "      <td>706.0</td>\n",
       "      <td>924.0</td>\n",
       "    </tr>\n",
       "    <tr>\n",
       "      <th>Basavanagudi</th>\n",
       "      <td>243.0</td>\n",
       "      <td>441.0</td>\n",
       "    </tr>\n",
       "    <tr>\n",
       "      <th>...</th>\n",
       "      <td>...</td>\n",
       "      <td>...</td>\n",
       "    </tr>\n",
       "    <tr>\n",
       "      <th>West Bangalore</th>\n",
       "      <td>4.0</td>\n",
       "      <td>2.0</td>\n",
       "    </tr>\n",
       "    <tr>\n",
       "      <th>Whitefield</th>\n",
       "      <td>1005.0</td>\n",
       "      <td>1139.0</td>\n",
       "    </tr>\n",
       "    <tr>\n",
       "      <th>Wilson Garden</th>\n",
       "      <td>112.0</td>\n",
       "      <td>134.0</td>\n",
       "    </tr>\n",
       "    <tr>\n",
       "      <th>Yelahanka</th>\n",
       "      <td>1.0</td>\n",
       "      <td>5.0</td>\n",
       "    </tr>\n",
       "    <tr>\n",
       "      <th>Yeshwantpur</th>\n",
       "      <td>26.0</td>\n",
       "      <td>93.0</td>\n",
       "    </tr>\n",
       "  </tbody>\n",
       "</table>\n",
       "<p>93 rows × 2 columns</p>\n",
       "</div>"
      ],
      "text/plain": [
       "                     name        \n",
       "online_order           No     Yes\n",
       "location                         \n",
       "BTM                1792.0  3332.0\n",
       "Banashankari        397.0   509.0\n",
       "Banaswadi           321.0   343.0\n",
       "Bannerghatta Road   706.0   924.0\n",
       "Basavanagudi        243.0   441.0\n",
       "...                   ...     ...\n",
       "West Bangalore        4.0     2.0\n",
       "Whitefield         1005.0  1139.0\n",
       "Wilson Garden       112.0   134.0\n",
       "Yelahanka             1.0     5.0\n",
       "Yeshwantpur          26.0    93.0\n",
       "\n",
       "[93 rows x 2 columns]"
      ]
     },
     "execution_count": 16,
     "metadata": {},
     "output_type": "execute_result"
    }
   ],
   "source": [
    "df1= df.groupby(['location','online_order'])['name'].count()\n",
    "df1.to_csv('location_online_csv')\n",
    "df1 = pd.read_csv('location_online_csv')\n",
    "df1 = pd.pivot_table(df1,values = None, index=['location'],columns = ['online_order'])\n",
    "df1"
   ]
  },
  {
   "cell_type": "code",
   "execution_count": 18,
   "id": "7d3a8c2e",
   "metadata": {},
   "outputs": [
    {
     "data": {
      "text/plain": [
       "<AxesSubplot:xlabel='location'>"
      ]
     },
     "execution_count": 18,
     "metadata": {},
     "output_type": "execute_result"
    },
    {
     "data": {
      "image/png": "[encoded data removed]",
      "text/plain": [
       "<Figure size 1080x432 with 1 Axes>"
      ]
     },
     "metadata": {},
     "output_type": "display_data"
    }
   ],
   "source": [
    "df1.plot(kind = 'bar', figsize = (15,6))"
   ]
  },
  {
   "cell_type": "markdown",
   "id": "b120e27c",
   "metadata": {},
   "source": [
    "#  Book table facility Location wise"
   ]
  },
  {
   "cell_type": "code",
   "execution_count": 32,
   "id": "51bcb8a2",
   "metadata": {},
   "outputs": [
    {
     "data": {
      "text/html": [
       "<div>\n",
       "<style scoped>\n",
       "    .dataframe tbody tr th:only-of-type {\n",
       "        vertical-align: middle;\n",
       "    }\n",
       "\n",
       "    .dataframe tbody tr th {\n",
       "        vertical-align: top;\n",
       "    }\n",
       "\n",
       "    .dataframe thead tr th {\n",
       "        text-align: left;\n",
       "    }\n",
       "\n",
       "    .dataframe thead tr:last-of-type th {\n",
       "        text-align: right;\n",
       "    }\n",
       "</style>\n",
       "<table border=\"1\" class=\"dataframe\">\n",
       "  <thead>\n",
       "    <tr>\n",
       "      <th></th>\n",
       "      <th colspan=\"2\" halign=\"left\">name</th>\n",
       "    </tr>\n",
       "    <tr>\n",
       "      <th>book_table</th>\n",
       "      <th>No</th>\n",
       "      <th>Yes</th>\n",
       "    </tr>\n",
       "    <tr>\n",
       "      <th>location</th>\n",
       "      <th></th>\n",
       "      <th></th>\n",
       "    </tr>\n",
       "  </thead>\n",
       "  <tbody>\n",
       "    <tr>\n",
       "      <th>BTM</th>\n",
       "      <td>4956</td>\n",
       "      <td>168</td>\n",
       "    </tr>\n",
       "    <tr>\n",
       "      <th>Banashankari</th>\n",
       "      <td>842</td>\n",
       "      <td>64</td>\n",
       "    </tr>\n",
       "    <tr>\n",
       "      <th>Banaswadi</th>\n",
       "      <td>656</td>\n",
       "      <td>8</td>\n",
       "    </tr>\n",
       "    <tr>\n",
       "      <th>Bannerghatta Road</th>\n",
       "      <td>1531</td>\n",
       "      <td>99</td>\n",
       "    </tr>\n",
       "    <tr>\n",
       "      <th>Basavanagudi</th>\n",
       "      <td>668</td>\n",
       "      <td>16</td>\n",
       "    </tr>\n",
       "    <tr>\n",
       "      <th>...</th>\n",
       "      <td>...</td>\n",
       "      <td>...</td>\n",
       "    </tr>\n",
       "    <tr>\n",
       "      <th>West Bangalore</th>\n",
       "      <td>6</td>\n",
       "      <td>0</td>\n",
       "    </tr>\n",
       "    <tr>\n",
       "      <th>Whitefield</th>\n",
       "      <td>1891</td>\n",
       "      <td>253</td>\n",
       "    </tr>\n",
       "    <tr>\n",
       "      <th>Wilson Garden</th>\n",
       "      <td>241</td>\n",
       "      <td>5</td>\n",
       "    </tr>\n",
       "    <tr>\n",
       "      <th>Yelahanka</th>\n",
       "      <td>6</td>\n",
       "      <td>0</td>\n",
       "    </tr>\n",
       "    <tr>\n",
       "      <th>Yeshwantpur</th>\n",
       "      <td>117</td>\n",
       "      <td>2</td>\n",
       "    </tr>\n",
       "  </tbody>\n",
       "</table>\n",
       "<p>93 rows × 2 columns</p>\n",
       "</div>"
      ],
      "text/plain": [
       "                   name     \n",
       "book_table           No  Yes\n",
       "location                    \n",
       "BTM                4956  168\n",
       "Banashankari        842   64\n",
       "Banaswadi           656    8\n",
       "Bannerghatta Road  1531   99\n",
       "Basavanagudi        668   16\n",
       "...                 ...  ...\n",
       "West Bangalore        6    0\n",
       "Whitefield         1891  253\n",
       "Wilson Garden       241    5\n",
       "Yelahanka             6    0\n",
       "Yeshwantpur         117    2\n",
       "\n",
       "[93 rows x 2 columns]"
      ]
     },
     "execution_count": 32,
     "metadata": {},
     "output_type": "execute_result"
    }
   ],
   "source": [
    "df2 = df.groupby(['location','book_table'])['name'].count()\n",
    "df2.to_csv('location_booktable.csv')\n",
    "df2= pd.read_csv('location_booktable.csv')\n",
    "df2 = pd.pivot_table(df2,values = None, index=['location'],columns = ['book_table'], fill_value = 0, aggfunc = np.sum)\n",
    "df2"
   ]
  },
  {
   "cell_type": "code",
   "execution_count": 34,
   "id": "edb70d14",
   "metadata": {},
   "outputs": [
    {
     "data": {
      "text/plain": [
       "<AxesSubplot:xlabel='location'>"
      ]
     },
     "execution_count": 34,
     "metadata": {},
     "output_type": "execute_result"
    },
    {
     "data": {
      "image/png": "[encoded data removed]",
      "text/plain": [
       "<Figure size 1080x576 with 1 Axes>"
      ]
     },
     "metadata": {},
     "output_type": "display_data"
    }
   ],
   "source": [
    "df2.plot(kind = 'bar', figsize = (15,8))"
   ]
  },
  {
   "cell_type": "markdown",
   "id": "b3e8c98b",
   "metadata": {},
   "source": [
    "# Types of Restaurents V/s Rate"
   ]
  },
  {
   "cell_type": "code",
   "execution_count": 48,
   "id": "cd7d5f5a",
   "metadata": {},
   "outputs": [
    {
     "data": {
      "text/plain": [
       "<AxesSubplot:xlabel='type', ylabel='rate'>"
      ]
     },
     "execution_count": 48,
     "metadata": {},
     "output_type": "execute_result"
    },
    {
     "data": {
      "image/png": "[encoded data removed]",
      "text/plain": [
       "<Figure size 1008x576 with 1 Axes>"
      ]
     },
     "metadata": {},
     "output_type": "display_data"
    }
   ],
   "source": [
    "plt.figure(figsize = (14,8))\n",
    "sns.boxplot(x = 'type', y = 'rate',data = df, palette = 'inferno')"
   ]
  },
  {
   "cell_type": "markdown",
   "id": "198a0616",
   "metadata": {},
   "source": [
    "# Grouping Types of Restaurents, location wise"
   ]
  },
  {
   "cell_type": "code",
   "execution_count": 70,
   "id": "ef67bec0",
   "metadata": {},
   "outputs": [
    {
     "data": {
      "text/html": [
       "<div>\n",
       "<style scoped>\n",
       "    .dataframe tbody tr th:only-of-type {\n",
       "        vertical-align: middle;\n",
       "    }\n",
       "\n",
       "    .dataframe tbody tr th {\n",
       "        vertical-align: top;\n",
       "    }\n",
       "\n",
       "    .dataframe thead tr th {\n",
       "        text-align: left;\n",
       "    }\n",
       "\n",
       "    .dataframe thead tr:last-of-type th {\n",
       "        text-align: right;\n",
       "    }\n",
       "</style>\n",
       "<table border=\"1\" class=\"dataframe\">\n",
       "  <thead>\n",
       "    <tr>\n",
       "      <th></th>\n",
       "      <th colspan=\"7\" halign=\"left\">name</th>\n",
       "    </tr>\n",
       "    <tr>\n",
       "      <th>type</th>\n",
       "      <th>Buffet</th>\n",
       "      <th>Cafes</th>\n",
       "      <th>Delivery</th>\n",
       "      <th>Desserts</th>\n",
       "      <th>Dine-out</th>\n",
       "      <th>Drinks &amp; nightlife</th>\n",
       "      <th>Pubs and bars</th>\n",
       "    </tr>\n",
       "    <tr>\n",
       "      <th>location</th>\n",
       "      <th></th>\n",
       "      <th></th>\n",
       "      <th></th>\n",
       "      <th></th>\n",
       "      <th></th>\n",
       "      <th></th>\n",
       "      <th></th>\n",
       "    </tr>\n",
       "  </thead>\n",
       "  <tbody>\n",
       "    <tr>\n",
       "      <th>BTM</th>\n",
       "      <td>21</td>\n",
       "      <td>83</td>\n",
       "      <td>3053</td>\n",
       "      <td>198</td>\n",
       "      <td>1660</td>\n",
       "      <td>22</td>\n",
       "      <td>19</td>\n",
       "    </tr>\n",
       "    <tr>\n",
       "      <th>Banashankari</th>\n",
       "      <td>7</td>\n",
       "      <td>36</td>\n",
       "      <td>418</td>\n",
       "      <td>71</td>\n",
       "      <td>356</td>\n",
       "      <td>14</td>\n",
       "      <td>0</td>\n",
       "    </tr>\n",
       "    <tr>\n",
       "      <th>Banaswadi</th>\n",
       "      <td>0</td>\n",
       "      <td>24</td>\n",
       "      <td>310</td>\n",
       "      <td>37</td>\n",
       "      <td>262</td>\n",
       "      <td>6</td>\n",
       "      <td>1</td>\n",
       "    </tr>\n",
       "    <tr>\n",
       "      <th>Bannerghatta Road</th>\n",
       "      <td>9</td>\n",
       "      <td>46</td>\n",
       "      <td>828</td>\n",
       "      <td>137</td>\n",
       "      <td>578</td>\n",
       "      <td>9</td>\n",
       "      <td>2</td>\n",
       "    </tr>\n",
       "    <tr>\n",
       "      <th>Basavanagudi</th>\n",
       "      <td>7</td>\n",
       "      <td>11</td>\n",
       "      <td>344</td>\n",
       "      <td>66</td>\n",
       "      <td>251</td>\n",
       "      <td>5</td>\n",
       "      <td>0</td>\n",
       "    </tr>\n",
       "    <tr>\n",
       "      <th>...</th>\n",
       "      <td>...</td>\n",
       "      <td>...</td>\n",
       "      <td>...</td>\n",
       "      <td>...</td>\n",
       "      <td>...</td>\n",
       "      <td>...</td>\n",
       "      <td>...</td>\n",
       "    </tr>\n",
       "    <tr>\n",
       "      <th>West Bangalore</th>\n",
       "      <td>0</td>\n",
       "      <td>0</td>\n",
       "      <td>5</td>\n",
       "      <td>0</td>\n",
       "      <td>1</td>\n",
       "      <td>0</td>\n",
       "      <td>0</td>\n",
       "    </tr>\n",
       "    <tr>\n",
       "      <th>Whitefield</th>\n",
       "      <td>28</td>\n",
       "      <td>51</td>\n",
       "      <td>1041</td>\n",
       "      <td>137</td>\n",
       "      <td>768</td>\n",
       "      <td>47</td>\n",
       "      <td>33</td>\n",
       "    </tr>\n",
       "    <tr>\n",
       "      <th>Wilson Garden</th>\n",
       "      <td>3</td>\n",
       "      <td>2</td>\n",
       "      <td>133</td>\n",
       "      <td>19</td>\n",
       "      <td>86</td>\n",
       "      <td>2</td>\n",
       "      <td>1</td>\n",
       "    </tr>\n",
       "    <tr>\n",
       "      <th>Yelahanka</th>\n",
       "      <td>0</td>\n",
       "      <td>0</td>\n",
       "      <td>3</td>\n",
       "      <td>0</td>\n",
       "      <td>2</td>\n",
       "      <td>0</td>\n",
       "      <td>0</td>\n",
       "    </tr>\n",
       "    <tr>\n",
       "      <th>Yeshwantpur</th>\n",
       "      <td>1</td>\n",
       "      <td>0</td>\n",
       "      <td>88</td>\n",
       "      <td>3</td>\n",
       "      <td>25</td>\n",
       "      <td>1</td>\n",
       "      <td>1</td>\n",
       "    </tr>\n",
       "  </tbody>\n",
       "</table>\n",
       "<p>93 rows × 7 columns</p>\n",
       "</div>"
      ],
      "text/plain": [
       "                    name                                                      \\\n",
       "type              Buffet Cafes Delivery Desserts Dine-out Drinks & nightlife   \n",
       "location                                                                       \n",
       "BTM                   21    83     3053      198     1660                 22   \n",
       "Banashankari           7    36      418       71      356                 14   \n",
       "Banaswadi              0    24      310       37      262                  6   \n",
       "Bannerghatta Road      9    46      828      137      578                  9   \n",
       "Basavanagudi           7    11      344       66      251                  5   \n",
       "...                  ...   ...      ...      ...      ...                ...   \n",
       "West Bangalore         0     0        5        0        1                  0   \n",
       "Whitefield            28    51     1041      137      768                 47   \n",
       "Wilson Garden          3     2      133       19       86                  2   \n",
       "Yelahanka              0     0        3        0        2                  0   \n",
       "Yeshwantpur            1     0       88        3       25                  1   \n",
       "\n",
       "                                 \n",
       "type              Pubs and bars  \n",
       "location                         \n",
       "BTM                          19  \n",
       "Banashankari                  0  \n",
       "Banaswadi                     1  \n",
       "Bannerghatta Road             2  \n",
       "Basavanagudi                  0  \n",
       "...                         ...  \n",
       "West Bangalore                0  \n",
       "Whitefield                   33  \n",
       "Wilson Garden                 1  \n",
       "Yelahanka                     0  \n",
       "Yeshwantpur                   1  \n",
       "\n",
       "[93 rows x 7 columns]"
      ]
     },
     "execution_count": 70,
     "metadata": {},
     "output_type": "execute_result"
    }
   ],
   "source": [
    "df3 = df.groupby(['location','type'])['name'].count()\n",
    "df3.to_csv('location_type.csv')\n",
    "df3 = pd.read_csv('location_type.csv')\n",
    "df3 = pd.pivot_table(df3,values = None, index=['location'],columns = ['type'], fill_value = 0, aggfunc = np.sum)\n",
    "df3"
   ]
  },
  {
   "cell_type": "markdown",
   "id": "a060e3b8",
   "metadata": {},
   "source": [
    "#  Type of Restaurents, location wise"
   ]
  },
  {
   "cell_type": "code",
   "execution_count": 71,
   "id": "fdf71898",
   "metadata": {},
   "outputs": [
    {
     "data": {
      "text/plain": [
       "<AxesSubplot:xlabel='location'>"
      ]
     },
     "execution_count": 71,
     "metadata": {},
     "output_type": "execute_result"
    },
    {
     "data": {
      "image/png": "[encoded data removed]",
      "text/plain": [
       "<Figure size 2592x576 with 1 Axes>"
      ]
     },
     "metadata": {},
     "output_type": "display_data"
    }
   ],
   "source": [
    "df2.plot(kind = 'bar',figsize = (36,8))"
   ]
  },
  {
   "cell_type": "code",
   "execution_count": 73,
   "id": "e2ed0853",
   "metadata": {},
   "outputs": [
    {
     "data": {
      "text/html": [
       "<div>\n",
       "<style scoped>\n",
       "    .dataframe tbody tr th:only-of-type {\n",
       "        vertical-align: middle;\n",
       "    }\n",
       "\n",
       "    .dataframe tbody tr th {\n",
       "        vertical-align: top;\n",
       "    }\n",
       "\n",
       "    .dataframe thead th {\n",
       "        text-align: right;\n",
       "    }\n",
       "</style>\n",
       "<table border=\"1\" class=\"dataframe\">\n",
       "  <thead>\n",
       "    <tr style=\"text-align: right;\">\n",
       "      <th></th>\n",
       "      <th>url</th>\n",
       "      <th>address</th>\n",
       "      <th>name</th>\n",
       "      <th>online_order</th>\n",
       "      <th>book_table</th>\n",
       "      <th>rate</th>\n",
       "      <th>votes</th>\n",
       "      <th>phone</th>\n",
       "      <th>location</th>\n",
       "      <th>rest_type</th>\n",
       "      <th>dish_liked</th>\n",
       "      <th>cuisines</th>\n",
       "      <th>approx_cost(for two people)</th>\n",
       "      <th>reviews_list</th>\n",
       "      <th>menu_item</th>\n",
       "      <th>listed_in(type)</th>\n",
       "      <th>listed_in(city)</th>\n",
       "    </tr>\n",
       "  </thead>\n",
       "  <tbody>\n",
       "    <tr>\n",
       "      <th>0</th>\n",
       "      <td>https://www.zomato.com/bangalore/jalsa-banasha...</td>\n",
       "      <td>942, 21st Main Road, 2nd Stage, Banashankari, ...</td>\n",
       "      <td>Jalsa</td>\n",
       "      <td>Yes</td>\n",
       "      <td>Yes</td>\n",
       "      <td>4.1/5</td>\n",
       "      <td>775</td>\n",
       "      <td>080 42297555\\r\\n+91 9743772233</td>\n",
       "      <td>Banashankari</td>\n",
       "      <td>Casual Dining</td>\n",
       "      <td>Pasta, Lunch Buffet, Masala Papad, Paneer Laja...</td>\n",
       "      <td>North Indian, Mughlai, Chinese</td>\n",
       "      <td>800</td>\n",
       "      <td>[('Rated 4.0', 'RATED\\n  A beautiful place to ...</td>\n",
       "      <td>[]</td>\n",
       "      <td>Buffet</td>\n",
       "      <td>Banashankari</td>\n",
       "    </tr>\n",
       "    <tr>\n",
       "      <th>1</th>\n",
       "      <td>https://www.zomato.com/bangalore/spice-elephan...</td>\n",
       "      <td>2nd Floor, 80 Feet Road, Near Big Bazaar, 6th ...</td>\n",
       "      <td>Spice Elephant</td>\n",
       "      <td>Yes</td>\n",
       "      <td>No</td>\n",
       "      <td>4.1/5</td>\n",
       "      <td>787</td>\n",
       "      <td>080 41714161</td>\n",
       "      <td>Banashankari</td>\n",
       "      <td>Casual Dining</td>\n",
       "      <td>Momos, Lunch Buffet, Chocolate Nirvana, Thai G...</td>\n",
       "      <td>Chinese, North Indian, Thai</td>\n",
       "      <td>800</td>\n",
       "      <td>[('Rated 4.0', 'RATED\\n  Had been here for din...</td>\n",
       "      <td>[]</td>\n",
       "      <td>Buffet</td>\n",
       "      <td>Banashankari</td>\n",
       "    </tr>\n",
       "    <tr>\n",
       "      <th>2</th>\n",
       "      <td>https://www.zomato.com/SanchurroBangalore?cont...</td>\n",
       "      <td>1112, Next to KIMS Medical College, 17th Cross...</td>\n",
       "      <td>San Churro Cafe</td>\n",
       "      <td>Yes</td>\n",
       "      <td>No</td>\n",
       "      <td>3.8/5</td>\n",
       "      <td>918</td>\n",
       "      <td>+91 9663487993</td>\n",
       "      <td>Banashankari</td>\n",
       "      <td>Cafe, Casual Dining</td>\n",
       "      <td>Churros, Cannelloni, Minestrone Soup, Hot Choc...</td>\n",
       "      <td>Cafe, Mexican, Italian</td>\n",
       "      <td>800</td>\n",
       "      <td>[('Rated 3.0', \"RATED\\n  Ambience is not that ...</td>\n",
       "      <td>[]</td>\n",
       "      <td>Buffet</td>\n",
       "      <td>Banashankari</td>\n",
       "    </tr>\n",
       "    <tr>\n",
       "      <th>3</th>\n",
       "      <td>https://www.zomato.com/bangalore/addhuri-udupi...</td>\n",
       "      <td>1st Floor, Annakuteera, 3rd Stage, Banashankar...</td>\n",
       "      <td>Addhuri Udupi Bhojana</td>\n",
       "      <td>No</td>\n",
       "      <td>No</td>\n",
       "      <td>3.7/5</td>\n",
       "      <td>88</td>\n",
       "      <td>+91 9620009302</td>\n",
       "      <td>Banashankari</td>\n",
       "      <td>Quick Bites</td>\n",
       "      <td>Masala Dosa</td>\n",
       "      <td>South Indian, North Indian</td>\n",
       "      <td>300</td>\n",
       "      <td>[('Rated 4.0', \"RATED\\n  Great food and proper...</td>\n",
       "      <td>[]</td>\n",
       "      <td>Buffet</td>\n",
       "      <td>Banashankari</td>\n",
       "    </tr>\n",
       "    <tr>\n",
       "      <th>4</th>\n",
       "      <td>https://www.zomato.com/bangalore/grand-village...</td>\n",
       "      <td>10, 3rd Floor, Lakshmi Associates, Gandhi Baza...</td>\n",
       "      <td>Grand Village</td>\n",
       "      <td>No</td>\n",
       "      <td>No</td>\n",
       "      <td>3.8/5</td>\n",
       "      <td>166</td>\n",
       "      <td>+91 8026612447\\r\\n+91 9901210005</td>\n",
       "      <td>Basavanagudi</td>\n",
       "      <td>Casual Dining</td>\n",
       "      <td>Panipuri, Gol Gappe</td>\n",
       "      <td>North Indian, Rajasthani</td>\n",
       "      <td>600</td>\n",
       "      <td>[('Rated 4.0', 'RATED\\n  Very good restaurant ...</td>\n",
       "      <td>[]</td>\n",
       "      <td>Buffet</td>\n",
       "      <td>Banashankari</td>\n",
       "    </tr>\n",
       "  </tbody>\n",
       "</table>\n",
       "</div>"
      ],
      "text/plain": [
       "                                                 url  \\\n",
       "0  https://www.zomato.com/bangalore/jalsa-banasha...   \n",
       "1  https://www.zomato.com/bangalore/spice-elephan...   \n",
       "2  https://www.zomato.com/SanchurroBangalore?cont...   \n",
       "3  https://www.zomato.com/bangalore/addhuri-udupi...   \n",
       "4  https://www.zomato.com/bangalore/grand-village...   \n",
       "\n",
       "                                             address                   name  \\\n",
       "0  942, 21st Main Road, 2nd Stage, Banashankari, ...                  Jalsa   \n",
       "1  2nd Floor, 80 Feet Road, Near Big Bazaar, 6th ...         Spice Elephant   \n",
       "2  1112, Next to KIMS Medical College, 17th Cross...        San Churro Cafe   \n",
       "3  1st Floor, Annakuteera, 3rd Stage, Banashankar...  Addhuri Udupi Bhojana   \n",
       "4  10, 3rd Floor, Lakshmi Associates, Gandhi Baza...          Grand Village   \n",
       "\n",
       "  online_order book_table   rate  votes                             phone  \\\n",
       "0          Yes        Yes  4.1/5    775    080 42297555\\r\\n+91 9743772233   \n",
       "1          Yes         No  4.1/5    787                      080 41714161   \n",
       "2          Yes         No  3.8/5    918                    +91 9663487993   \n",
       "3           No         No  3.7/5     88                    +91 9620009302   \n",
       "4           No         No  3.8/5    166  +91 8026612447\\r\\n+91 9901210005   \n",
       "\n",
       "       location            rest_type  \\\n",
       "0  Banashankari        Casual Dining   \n",
       "1  Banashankari        Casual Dining   \n",
       "2  Banashankari  Cafe, Casual Dining   \n",
       "3  Banashankari          Quick Bites   \n",
       "4  Basavanagudi        Casual Dining   \n",
       "\n",
       "                                          dish_liked  \\\n",
       "0  Pasta, Lunch Buffet, Masala Papad, Paneer Laja...   \n",
       "1  Momos, Lunch Buffet, Chocolate Nirvana, Thai G...   \n",
       "2  Churros, Cannelloni, Minestrone Soup, Hot Choc...   \n",
       "3                                        Masala Dosa   \n",
       "4                                Panipuri, Gol Gappe   \n",
       "\n",
       "                         cuisines approx_cost(for two people)  \\\n",
       "0  North Indian, Mughlai, Chinese                         800   \n",
       "1     Chinese, North Indian, Thai                         800   \n",
       "2          Cafe, Mexican, Italian                         800   \n",
       "3      South Indian, North Indian                         300   \n",
       "4        North Indian, Rajasthani                         600   \n",
       "\n",
       "                                        reviews_list menu_item  \\\n",
       "0  [('Rated 4.0', 'RATED\\n  A beautiful place to ...        []   \n",
       "1  [('Rated 4.0', 'RATED\\n  Had been here for din...        []   \n",
       "2  [('Rated 3.0', \"RATED\\n  Ambience is not that ...        []   \n",
       "3  [('Rated 4.0', \"RATED\\n  Great food and proper...        []   \n",
       "4  [('Rated 4.0', 'RATED\\n  Very good restaurant ...        []   \n",
       "\n",
       "  listed_in(type) listed_in(city)  \n",
       "0          Buffet    Banashankari  \n",
       "1          Buffet    Banashankari  \n",
       "2          Buffet    Banashankari  \n",
       "3          Buffet    Banashankari  \n",
       "4          Buffet    Banashankari  "
      ]
     },
     "execution_count": 73,
     "metadata": {},
     "output_type": "execute_result"
    }
   ],
   "source": [
    "df.head()"
   ]
  },
  {
   "cell_type": "markdown",
   "id": "27f20764",
   "metadata": {},
   "source": [
    "# Number of Votes, location wise"
   ]
  },
  {
   "cell_type": "code",
   "execution_count": 102,
   "id": "d99ea6e6",
   "metadata": {},
   "outputs": [
    {
     "data": {
      "text/html": [
       "<div>\n",
       "<style scoped>\n",
       "    .dataframe tbody tr th:only-of-type {\n",
       "        vertical-align: middle;\n",
       "    }\n",
       "\n",
       "    .dataframe tbody tr th {\n",
       "        vertical-align: top;\n",
       "    }\n",
       "\n",
       "    .dataframe thead th {\n",
       "        text-align: right;\n",
       "    }\n",
       "</style>\n",
       "<table border=\"1\" class=\"dataframe\">\n",
       "  <thead>\n",
       "    <tr style=\"text-align: right;\">\n",
       "      <th></th>\n",
       "      <th>votes</th>\n",
       "    </tr>\n",
       "    <tr>\n",
       "      <th>location</th>\n",
       "      <th></th>\n",
       "    </tr>\n",
       "  </thead>\n",
       "  <tbody>\n",
       "    <tr>\n",
       "      <th>Koramangala 5th Block</th>\n",
       "      <td>2214083</td>\n",
       "    </tr>\n",
       "    <tr>\n",
       "      <th>Indiranagar</th>\n",
       "      <td>1165909</td>\n",
       "    </tr>\n",
       "    <tr>\n",
       "      <th>Koramangala 4th Block</th>\n",
       "      <td>685156</td>\n",
       "    </tr>\n",
       "    <tr>\n",
       "      <th>Church Street</th>\n",
       "      <td>590306</td>\n",
       "    </tr>\n",
       "    <tr>\n",
       "      <th>JP Nagar</th>\n",
       "      <td>578010</td>\n",
       "    </tr>\n",
       "  </tbody>\n",
       "</table>\n",
       "</div>"
      ],
      "text/plain": [
       "                         votes\n",
       "location                      \n",
       "Koramangala 5th Block  2214083\n",
       "Indiranagar            1165909\n",
       "Koramangala 4th Block   685156\n",
       "Church Street           590306\n",
       "JP Nagar                578010"
      ]
     },
     "execution_count": 102,
     "metadata": {},
     "output_type": "execute_result"
    }
   ],
   "source": [
    "df4 = df[['location','votes']]\n",
    "df4.drop_duplicates()\n",
    "df5 = df4.groupby(['location'])['votes'].sum()\n",
    "df5 = df5.to_frame()\n",
    "df5 = df5.sort_values('votes', ascending = False)\n",
    "df5.head()\n"
   ]
  },
  {
   "cell_type": "code",
   "execution_count": 104,
   "id": "ecae17af",
   "metadata": {},
   "outputs": [
    {
     "data": {
      "text/plain": [
       "(array([ 0,  1,  2,  3,  4,  5,  6,  7,  8,  9, 10, 11, 12, 13, 14, 15, 16,\n",
       "        17, 18, 19, 20, 21, 22, 23, 24, 25, 26, 27, 28, 29, 30, 31, 32, 33,\n",
       "        34, 35, 36, 37, 38, 39, 40, 41, 42, 43, 44, 45, 46, 47, 48, 49, 50,\n",
       "        51, 52, 53, 54, 55, 56, 57, 58, 59, 60, 61, 62, 63, 64, 65, 66, 67,\n",
       "        68, 69, 70, 71, 72, 73, 74, 75, 76, 77, 78, 79, 80, 81, 82, 83, 84,\n",
       "        85, 86, 87, 88, 89, 90, 91]),\n",
       " [Text(0, 0, 'Koramangala 5th Block'),\n",
       "  Text(1, 0, 'Indiranagar'),\n",
       "  Text(2, 0, 'Koramangala 4th Block'),\n",
       "  Text(3, 0, 'Church Street'),\n",
       "  Text(4, 0, 'JP Nagar'),\n",
       "  Text(5, 0, 'BTM'),\n",
       "  Text(6, 0, 'HSR'),\n",
       "  Text(7, 0, 'Lavelle Road'),\n",
       "  Text(8, 0, 'Koramangala 7th Block'),\n",
       "  Text(9, 0, 'Jayanagar'),\n",
       "  Text(10, 0, 'Whitefield'),\n",
       "  Text(11, 0, 'Koramangala 6th Block'),\n",
       "  Text(12, 0, 'Marathahalli'),\n",
       "  Text(13, 0, 'MG Road'),\n",
       "  Text(14, 0, 'Brigade Road'),\n",
       "  Text(15, 0, 'Sarjapur Road'),\n",
       "  Text(16, 0, 'Residency Road'),\n",
       "  Text(17, 0, 'Cunningham Road'),\n",
       "  Text(18, 0, 'St. Marks Road'),\n",
       "  Text(19, 0, 'Koramangala 1st Block'),\n",
       "  Text(20, 0, 'Malleshwaram'),\n",
       "  Text(21, 0, 'Bannerghatta Road'),\n",
       "  Text(22, 0, 'Bellandur'),\n",
       "  Text(23, 0, 'Ulsoor'),\n",
       "  Text(24, 0, 'New BEL Road'),\n",
       "  Text(25, 0, 'Kalyan Nagar'),\n",
       "  Text(26, 0, 'Banashankari'),\n",
       "  Text(27, 0, 'Old Airport Road'),\n",
       "  Text(28, 0, 'Koramangala 3rd Block'),\n",
       "  Text(29, 0, 'Brookefield'),\n",
       "  Text(30, 0, 'Richmond Road'),\n",
       "  Text(31, 0, 'Electronic City'),\n",
       "  Text(32, 0, 'Kammanahalli'),\n",
       "  Text(33, 0, 'Frazer Town'),\n",
       "  Text(34, 0, 'Domlur'),\n",
       "  Text(35, 0, 'Basavanagudi'),\n",
       "  Text(36, 0, 'Rajajinagar'),\n",
       "  Text(37, 0, 'Shanti Nagar'),\n",
       "  Text(38, 0, 'Infantry Road'),\n",
       "  Text(39, 0, 'Jeevan Bhima Nagar'),\n",
       "  Text(40, 0, 'Banaswadi'),\n",
       "  Text(41, 0, 'Vasanth Nagar'),\n",
       "  Text(42, 0, 'Race Course Road'),\n",
       "  Text(43, 0, 'Commercial Street'),\n",
       "  Text(44, 0, 'Koramangala 8th Block'),\n",
       "  Text(45, 0, 'Sadashiv Nagar'),\n",
       "  Text(46, 0, 'Nagawara'),\n",
       "  Text(47, 0, 'Basaveshwara Nagar'),\n",
       "  Text(48, 0, 'Seshadripuram'),\n",
       "  Text(49, 0, 'Ejipura'),\n",
       "  Text(50, 0, 'Kumaraswamy Layout'),\n",
       "  Text(51, 0, 'Shivajinagar'),\n",
       "  Text(52, 0, 'Thippasandra'),\n",
       "  Text(53, 0, 'HBR Layout'),\n",
       "  Text(54, 0, 'Hennur'),\n",
       "  Text(55, 0, 'Kaggadasapura'),\n",
       "  Text(56, 0, 'Hosur Road'),\n",
       "  Text(57, 0, 'Bommanahalli'),\n",
       "  Text(58, 0, 'ITPL Main Road, Whitefield'),\n",
       "  Text(59, 0, 'Vijay Nagar'),\n",
       "  Text(60, 0, 'Koramangala 2nd Block'),\n",
       "  Text(61, 0, 'Wilson Garden'),\n",
       "  Text(62, 0, 'Yeshwantpur'),\n",
       "  Text(63, 0, 'Sahakara Nagar'),\n",
       "  Text(64, 0, 'RT Nagar'),\n",
       "  Text(65, 0, 'Sankey Road'),\n",
       "  Text(66, 0, 'Koramangala'),\n",
       "  Text(67, 0, 'Varthur Main Road, Whitefield'),\n",
       "  Text(68, 0, 'Langford Town'),\n",
       "  Text(69, 0, 'Majestic'),\n",
       "  Text(70, 0, 'South Bangalore'),\n",
       "  Text(71, 0, 'Sanjay Nagar'),\n",
       "  Text(72, 0, 'CV Raman Nagar'),\n",
       "  Text(73, 0, 'City Market'),\n",
       "  Text(74, 0, 'East Bangalore'),\n",
       "  Text(75, 0, 'North Bangalore'),\n",
       "  Text(76, 0, 'Old Madras Road'),\n",
       "  Text(77, 0, 'Rammurthy Nagar'),\n",
       "  Text(78, 0, 'Central Bangalore'),\n",
       "  Text(79, 0, 'Mysore Road'),\n",
       "  Text(80, 0, 'West Bangalore'),\n",
       "  Text(81, 0, 'Magadi Road'),\n",
       "  Text(82, 0, 'Kanakapura Road'),\n",
       "  Text(83, 0, 'Rajarajeshwari Nagar'),\n",
       "  Text(84, 0, 'Uttarahalli'),\n",
       "  Text(85, 0, 'Jalahalli'),\n",
       "  Text(86, 0, 'Hebbal'),\n",
       "  Text(87, 0, 'Kengeri'),\n",
       "  Text(88, 0, 'KR Puram'),\n",
       "  Text(89, 0, 'Yelahanka'),\n",
       "  Text(90, 0, 'Nagarbhavi'),\n",
       "  Text(91, 0, 'Peenya')])"
      ]
     },
     "execution_count": 104,
     "metadata": {},
     "output_type": "execute_result"
    },
    {
     "data": {
      "image/png": "[encoded data removed]",
      "text/plain": [
       "<Figure size 1080x576 with 1 Axes>"
      ]
     },
     "metadata": {
      "needs_background": "light"
     },
     "output_type": "display_data"
    }
   ],
   "source": [
    "plt.figure(figsize = (15,8))\n",
    "sns.barplot(df5.index , df5['votes'])\n",
    "plt.xticks(rotation = 90)\n",
    "\n"
   ]
  },
  {
   "cell_type": "markdown",
   "id": "7859d04b",
   "metadata": {},
   "source": [
    "# Visualizing Top Cuisines"
   ]
  },
  {
   "cell_type": "code",
   "execution_count": 108,
   "id": "69e06de0",
   "metadata": {},
   "outputs": [
    {
     "data": {
      "text/html": [
       "<div>\n",
       "<style scoped>\n",
       "    .dataframe tbody tr th:only-of-type {\n",
       "        vertical-align: middle;\n",
       "    }\n",
       "\n",
       "    .dataframe tbody tr th {\n",
       "        vertical-align: top;\n",
       "    }\n",
       "\n",
       "    .dataframe thead th {\n",
       "        text-align: right;\n",
       "    }\n",
       "</style>\n",
       "<table border=\"1\" class=\"dataframe\">\n",
       "  <thead>\n",
       "    <tr style=\"text-align: right;\">\n",
       "      <th></th>\n",
       "      <th>votes</th>\n",
       "    </tr>\n",
       "    <tr>\n",
       "      <th>cuisines</th>\n",
       "      <th></th>\n",
       "    </tr>\n",
       "  </thead>\n",
       "  <tbody>\n",
       "    <tr>\n",
       "      <th>North Indian</th>\n",
       "      <td>516306</td>\n",
       "    </tr>\n",
       "    <tr>\n",
       "      <th>Pizza, Cafe, Italian</th>\n",
       "      <td>347520</td>\n",
       "    </tr>\n",
       "    <tr>\n",
       "      <th>Cafe, American, Burger, Steak</th>\n",
       "      <td>301059</td>\n",
       "    </tr>\n",
       "    <tr>\n",
       "      <th>North Indian, Chinese</th>\n",
       "      <td>258225</td>\n",
       "    </tr>\n",
       "    <tr>\n",
       "      <th>North Indian, Mughlai, South Indian, Chinese</th>\n",
       "      <td>227930</td>\n",
       "    </tr>\n",
       "  </tbody>\n",
       "</table>\n",
       "</div>"
      ],
      "text/plain": [
       "                                               votes\n",
       "cuisines                                            \n",
       "North Indian                                  516306\n",
       "Pizza, Cafe, Italian                          347520\n",
       "Cafe, American, Burger, Steak                 301059\n",
       "North Indian, Chinese                         258225\n",
       "North Indian, Mughlai, South Indian, Chinese  227930"
      ]
     },
     "execution_count": 108,
     "metadata": {},
     "output_type": "execute_result"
    }
   ],
   "source": [
    "df6 = df[['cuisines','votes']]\n",
    "df6.drop_duplicates()\n",
    "df7 = df6.groupby(['cuisines'])['votes'].sum()\n",
    "df7 = df7.to_frame()\n",
    "df7 = df7.sort_values('votes', ascending = False)\n",
    "df7.head()"
   ]
  },
  {
   "cell_type": "code",
   "execution_count": 109,
   "id": "b965aa29",
   "metadata": {},
   "outputs": [
    {
     "data": {
      "text/html": [
       "<div>\n",
       "<style scoped>\n",
       "    .dataframe tbody tr th:only-of-type {\n",
       "        vertical-align: middle;\n",
       "    }\n",
       "\n",
       "    .dataframe tbody tr th {\n",
       "        vertical-align: top;\n",
       "    }\n",
       "\n",
       "    .dataframe thead th {\n",
       "        text-align: right;\n",
       "    }\n",
       "</style>\n",
       "<table border=\"1\" class=\"dataframe\">\n",
       "  <thead>\n",
       "    <tr style=\"text-align: right;\">\n",
       "      <th></th>\n",
       "      <th>votes</th>\n",
       "    </tr>\n",
       "    <tr>\n",
       "      <th>cuisines</th>\n",
       "      <th></th>\n",
       "    </tr>\n",
       "  </thead>\n",
       "  <tbody>\n",
       "    <tr>\n",
       "      <th>Pizza, Cafe, Italian</th>\n",
       "      <td>347520</td>\n",
       "    </tr>\n",
       "    <tr>\n",
       "      <th>Cafe, American, Burger, Steak</th>\n",
       "      <td>301059</td>\n",
       "    </tr>\n",
       "    <tr>\n",
       "      <th>North Indian, Chinese</th>\n",
       "      <td>258225</td>\n",
       "    </tr>\n",
       "    <tr>\n",
       "      <th>North Indian, Mughlai, South Indian, Chinese</th>\n",
       "      <td>227930</td>\n",
       "    </tr>\n",
       "    <tr>\n",
       "      <th>South Indian</th>\n",
       "      <td>161645</td>\n",
       "    </tr>\n",
       "  </tbody>\n",
       "</table>\n",
       "</div>"
      ],
      "text/plain": [
       "                                               votes\n",
       "cuisines                                            \n",
       "Pizza, Cafe, Italian                          347520\n",
       "Cafe, American, Burger, Steak                 301059\n",
       "North Indian, Chinese                         258225\n",
       "North Indian, Mughlai, South Indian, Chinese  227930\n",
       "South Indian                                  161645"
      ]
     },
     "execution_count": 109,
     "metadata": {},
     "output_type": "execute_result"
    }
   ],
   "source": [
    "df7 = df7.iloc[1:, :]\n",
    "df7.head()"
   ]
  },
  {
   "cell_type": "code",
   "execution_count": 133,
   "id": "b82bcee3",
   "metadata": {
    "scrolled": true
   },
   "outputs": [
    {
     "data": {
      "text/plain": [
       "<AxesSubplot:xlabel='cuisines', ylabel='votes'>"
      ]
     },
     "execution_count": 133,
     "metadata": {},
     "output_type": "execute_result"
    },
    {
     "data": {
      "image/png": "[encoded data removed]",
      "text/plain": [
       "<Figure size 1080x576 with 1 Axes>"
      ]
     },
     "metadata": {
      "needs_background": "light"
     },
     "output_type": "display_data"
    }
   ],
   "source": [
    "plt.figure(figsize = (15,8))\n",
    "sns.barplot(df7.index , df7['votes'])\n",
    "\n",
    "\n"
   ]
  },
  {
   "cell_type": "code",
   "execution_count": null,
   "id": "95ce8c63",
   "metadata": {},
   "outputs": [],
   "source": []
  }
 ],
 "metadata": {
  "kernelspec": {
   "display_name": "Python 3",
   "language": "python",
   "name": "python3"
  },
  "language_info": {
   "codemirror_mode": {
    "name": "ipython",
    "version": 3
   },
   "file_extension": ".py",
   "mimetype": "text/x-python",
   "name": "python",
   "nbconvert_exporter": "python",
   "pygments_lexer": "ipython3",
   "version": "3.8.8"
  }
 },
 "nbformat": 4,
 "nbformat_minor": 5
}
